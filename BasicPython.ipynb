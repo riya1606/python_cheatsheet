{
 "cells": [
  {
   "cell_type": "markdown",
   "id": "de3924c4",
   "metadata": {},
   "source": [
    "# About Python\n"
   ]
  },
  {
   "cell_type": "markdown",
   "id": "83d93243",
   "metadata": {},
   "source": [
    "- Python is a general-purpose interpreted, interactive, object-oriented, and high level programming language.   \n",
    "- It was created by Guido van Rossum during 1985-1990.   \n",
    "- Python source code is available under the GNU General Public License(GPL).   \n",
    "- Python is designed to be highly readable.\n",
    "- Python can be used as a scripting language or can be compiled to byte-code for building large application.\n",
    "- Provides very high-level dynamic data types and supports dynamic type checking.\n",
    "- It supports automatic garbage collection.\n",
    "- It can be easily integrated with other programming language.\n",
    "- Interpreted: Python is processed at runtime by the interpreter.\n",
    "- Interactive: You can interact directly with interpreter.\n",
    "- Object Oriented: Python supports Object-Oriented Style or Technique of programming that encapsulates code within objects.\n",
    "- Portable: Python can run on a wide variety of hardware platform and has the same interface on all platforms.\n",
    "- Extendable: You can add low-level modules to Python Interpreter. These modules enable programmers to add or customixe their tools to be more efficient.\n",
    "- Databases: Python provides interfaces to all major commercial databases.\n",
    "- Scalable: Python provides a better structure and support for large programs than shell scripting."
   ]
  },
  {
   "cell_type": "markdown",
   "id": "11cbb3a1",
   "metadata": {},
   "source": [
    "# 1. Python File I/O"
   ]
  },
  {
   "cell_type": "markdown",
   "id": "65e36d30",
   "metadata": {},
   "source": [
    "## print()"
   ]
  },
  {
   "cell_type": "markdown",
   "id": "6a668144",
   "metadata": {},
   "source": [
    "The simplest directive in Python is the \"print\" directive - it simply prints out a line (and also includes a newline, unlike in C).\n",
    "In Python 3, the print statement, it is a function, and must be invoked with parentheses. In Python 2 the print statement is not a function and therefore it is invoked without parantheses.   \n",
    "You can pass zero or more expressions seperated by commas."
   ]
  },
  {
   "cell_type": "code",
   "execution_count": 1,
   "id": "d092a5e0",
   "metadata": {},
   "outputs": [
    {
     "name": "stdout",
     "output_type": "stream",
     "text": [
      "Hello World\n"
     ]
    }
   ],
   "source": [
    "print(\"Hello World\")"
   ]
  },
  {
   "cell_type": "markdown",
   "id": "7d466cc5",
   "metadata": {},
   "source": [
    "## raw_input"
   ]
  },
  {
   "cell_type": "markdown",
   "id": "d0b6c259",
   "metadata": {},
   "source": [
    "The raw_input([prompt]) function reads one line from standard input and returns it as a string (removing the trailing newline).\n",
    "\n"
   ]
  },
  {
   "cell_type": "code",
   "execution_count": 38,
   "id": "117ab128",
   "metadata": {},
   "outputs": [],
   "source": [
    "# string=raw_input(\"Enter your input:\")\n",
    "# Works in python2"
   ]
  },
  {
   "cell_type": "markdown",
   "id": "ac205051",
   "metadata": {},
   "source": [
    "## input()"
   ]
  },
  {
   "cell_type": "markdown",
   "id": "79be447f",
   "metadata": {},
   "source": [
    "We use raw_input() to take input in Python 2 and input() in Python 3. "
   ]
  },
  {
   "cell_type": "code",
   "execution_count": 25,
   "id": "af84d1aa",
   "metadata": {},
   "outputs": [
    {
     "name": "stdout",
     "output_type": "stream",
     "text": [
      "riya\n",
      "7\n"
     ]
    }
   ],
   "source": [
    "name=input()\n",
    "number=int(input())"
   ]
  },
  {
   "cell_type": "markdown",
   "id": "aa06819e",
   "metadata": {},
   "source": [
    "## Opening and Closing Function"
   ]
  },
  {
   "cell_type": "markdown",
   "id": "869122a0",
   "metadata": {},
   "source": [
    "Python provides basic functions and methods necessary to manipulate files by default. You can do most of the file manipulation using a file object."
   ]
  },
  {
   "cell_type": "raw",
   "id": "2de50a78",
   "metadata": {},
   "source": [
    "file object=open(file_name[,access_mode][,buffering])"
   ]
  },
  {
   "cell_type": "markdown",
   "id": "547088a5",
   "metadata": {},
   "source": [
    "Here are parameter details −\n",
    "\n",
    "- file_name − The file_name argument is a string value that contains the name of the file that you want to access.\n",
    "\n",
    "- access_mode − The access_mode determines the mode in which the file has to be opened, i.e., read, write, append, etc. A complete list of possible values is given below in the table. This is optional parameter and the default file access mode is read (r).\n",
    "\n",
    "- buffering − If the buffering value is set to 0, no buffering takes place. If the buffering value is 1, line buffering is performed while accessing a file. If you specify the buffering value as an integer greater than 1, then buffering action is performed with the indicated buffer size. If negative, the buffer size is the system default(default behavior)."
   ]
  },
  {
   "cell_type": "markdown",
   "id": "d562f932",
   "metadata": {},
   "source": [
    "## Indentation\n"
   ]
  },
  {
   "cell_type": "markdown",
   "id": "93f0f80f",
   "metadata": {},
   "source": [
    "Python uses indentation for blocks, instead of curly braces. Both tabs and spaces are supported, but the standard indentation requires standard Python code to use four spaces.  \n",
    "For Example:"
   ]
  },
  {
   "cell_type": "code",
   "execution_count": 2,
   "id": "7a687790",
   "metadata": {},
   "outputs": [
    {
     "name": "stdout",
     "output_type": "stream",
     "text": [
      "x is 1\n"
     ]
    }
   ],
   "source": [
    "x=1\n",
    "if x==1:\n",
    "    # notice the indentation - 4 spaces\n",
    "    print(\"x is 1\")"
   ]
  },
  {
   "cell_type": "markdown",
   "id": "8db3de05",
   "metadata": {},
   "source": [
    "\n",
    "# 2. Variables and Types"
   ]
  },
  {
   "cell_type": "markdown",
   "id": "b736ed71",
   "metadata": {},
   "source": [
    "\n",
    "Python is completely object oriented, and not \"statically typed\". You do not need to declare variables before using them, or declare their type. Every variable in Python is an object."
   ]
  },
  {
   "cell_type": "markdown",
   "id": "cefbf7a6",
   "metadata": {},
   "source": [
    "## Numbers\n"
   ]
  },
  {
   "cell_type": "markdown",
   "id": "5d8f07cb",
   "metadata": {},
   "source": [
    "Python supports two types of numbers - integers(whole numbers) and floating point numbers(decimals)."
   ]
  },
  {
   "cell_type": "code",
   "execution_count": 4,
   "id": "d5fb2110",
   "metadata": {},
   "outputs": [
    {
     "name": "stdout",
     "output_type": "stream",
     "text": [
      "7\n"
     ]
    }
   ],
   "source": [
    "# To define an integer you use the following syntax.\n",
    "myInt=7\n",
    "print(myInt)"
   ]
  },
  {
   "cell_type": "code",
   "execution_count": 6,
   "id": "d63a7944",
   "metadata": {},
   "outputs": [
    {
     "name": "stdout",
     "output_type": "stream",
     "text": [
      "7.0\n",
      "7.0\n"
     ]
    }
   ],
   "source": [
    "# To define a floating point number you use the following syntax\n",
    "myFloat=7.0\n",
    "print(myFloat)\n",
    "myFloat=float(7)\n",
    "# We typecast an integer 7 into a float 7.0\n",
    "print(myFloat)"
   ]
  },
  {
   "cell_type": "markdown",
   "id": "e3862862",
   "metadata": {},
   "source": [
    "Division (/) always returns a float. To do floor division and get an integer result (discarding any fractional result) you can use the // operator; to calculate the remainder you can use %"
   ]
  },
  {
   "cell_type": "code",
   "execution_count": 1,
   "id": "71522b35",
   "metadata": {},
   "outputs": [
    {
     "name": "stdout",
     "output_type": "stream",
     "text": [
      "5.666666666666667 5 2\n"
     ]
    }
   ],
   "source": [
    "x=17/3\n",
    "y=17//3\n",
    "z=17%3\n",
    "print(x,y,z)"
   ]
  },
  {
   "cell_type": "markdown",
   "id": "010ac34b",
   "metadata": {},
   "source": [
    "## Strings"
   ]
  },
  {
   "cell_type": "markdown",
   "id": "ccf540f8",
   "metadata": {},
   "source": [
    "Strings are defined either with a single quote or a double quotes.   \n",
    "The difference between the two is that using double quotes makes it easy to include apostrophes (whereas these would terminate the string if using single quotes)\n",
    "\n"
   ]
  },
  {
   "cell_type": "code",
   "execution_count": 8,
   "id": "9a7d277a",
   "metadata": {},
   "outputs": [
    {
     "name": "stdout",
     "output_type": "stream",
     "text": [
      "hello\n",
      "heya\n",
      "Don't worry about apostrophes\n"
     ]
    }
   ],
   "source": [
    "myString='hello'\n",
    "print(myString)\n",
    "myString=\"heya\"\n",
    "print(myString)\n",
    "myString=\"Don't worry about apostrophes\"\n",
    "print(myString)"
   ]
  },
  {
   "cell_type": "markdown",
   "id": "0f74417f",
   "metadata": {},
   "source": [
    "Simple operators can be executed on numbers and strings:\n",
    "\n"
   ]
  },
  {
   "cell_type": "code",
   "execution_count": 10,
   "id": "ff336252",
   "metadata": {},
   "outputs": [
    {
     "name": "stdout",
     "output_type": "stream",
     "text": [
      "3\n",
      "hello world\n"
     ]
    }
   ],
   "source": [
    "# These are the operations on numbers.\n",
    "one = 1\n",
    "two = 2\n",
    "three = one+two\n",
    "print(three)\n",
    "# These are the operations on strings. The '+' here is called concatenation.\n",
    "hello = \"hello\"\n",
    "world = \"world\"\n",
    "helloworld=hello + \" \" +world\n",
    "print(helloworld)"
   ]
  },
  {
   "cell_type": "markdown",
   "id": "235cd4fa",
   "metadata": {},
   "source": [
    "In python, Assignment can be done on more than one variable simultaneously, on the same line, like this:\n"
   ]
  },
  {
   "cell_type": "code",
   "execution_count": 11,
   "id": "7cc96978",
   "metadata": {},
   "outputs": [
    {
     "name": "stdout",
     "output_type": "stream",
     "text": [
      "3 4\n"
     ]
    }
   ],
   "source": [
    "a,b=3,4\n",
    "print(a,b)"
   ]
  },
  {
   "cell_type": "markdown",
   "id": "47687170",
   "metadata": {},
   "source": [
    "# 3. Lists"
   ]
  },
  {
   "cell_type": "markdown",
   "id": "2be22308",
   "metadata": {},
   "source": [
    "Lists are very similar to arrays. They can contain any type of variable, and they can contain as many variables as you wish. Lists can also be iterated over in a very simple manner.   \n",
    "Here is an example of how to build a list."
   ]
  },
  {
   "cell_type": "code",
   "execution_count": 12,
   "id": "0ed87339",
   "metadata": {},
   "outputs": [
    {
     "name": "stdout",
     "output_type": "stream",
     "text": [
      "1\n",
      "2\n",
      "3\n",
      "1\n",
      "2\n",
      "3\n",
      "[1, 2, 3]\n"
     ]
    }
   ],
   "source": [
    "# This is how you create an empty list.\n",
    "myList=[] \n",
    "# To add items to it we use the append() method\n",
    "myList.append(1)\n",
    "myList.append(2)\n",
    "myList.append(3)\n",
    "print(myList[0])\n",
    "print(myList[1])\n",
    "print(myList[2])\n",
    "# You can also iterate over each element in list by doing the following:\n",
    "for x in myList:\n",
    "    print(x)\n",
    "# You can print the entire list\n",
    "print(myList)\n"
   ]
  },
  {
   "cell_type": "markdown",
   "id": "85297246",
   "metadata": {},
   "source": [
    "Accessing an index which does not exist generates an exception (an error)."
   ]
  },
  {
   "cell_type": "code",
   "execution_count": 13,
   "id": "428ca0e5",
   "metadata": {},
   "outputs": [
    {
     "ename": "IndexError",
     "evalue": "list index out of range",
     "output_type": "error",
     "traceback": [
      "\u001b[0;31m---------------------------------------------------------------------------\u001b[0m",
      "\u001b[0;31mIndexError\u001b[0m                                Traceback (most recent call last)",
      "\u001b[0;32m<ipython-input-13-4c32ae031624>\u001b[0m in \u001b[0;36m<module>\u001b[0;34m\u001b[0m\n\u001b[1;32m      1\u001b[0m \u001b[0mmyList\u001b[0m\u001b[0;34m=\u001b[0m\u001b[0;34m[\u001b[0m\u001b[0;36m1\u001b[0m\u001b[0;34m,\u001b[0m\u001b[0;36m2\u001b[0m\u001b[0;34m,\u001b[0m\u001b[0;36m3\u001b[0m\u001b[0;34m,\u001b[0m\u001b[0;36m4\u001b[0m\u001b[0;34m,\u001b[0m\u001b[0;36m5\u001b[0m\u001b[0;34m]\u001b[0m\u001b[0;34m\u001b[0m\u001b[0;34m\u001b[0m\u001b[0m\n\u001b[0;32m----> 2\u001b[0;31m \u001b[0mprint\u001b[0m\u001b[0;34m(\u001b[0m\u001b[0mmyList\u001b[0m\u001b[0;34m[\u001b[0m\u001b[0;36m6\u001b[0m\u001b[0;34m]\u001b[0m\u001b[0;34m)\u001b[0m\u001b[0;34m\u001b[0m\u001b[0;34m\u001b[0m\u001b[0m\n\u001b[0m",
      "\u001b[0;31mIndexError\u001b[0m: list index out of range"
     ]
    }
   ],
   "source": [
    "myList=[1,2,3,4,5]\n",
    "print(myList[6])"
   ]
  },
  {
   "cell_type": "markdown",
   "id": "ec2761ae",
   "metadata": {},
   "source": [
    "# 4. Basic Operators"
   ]
  },
  {
   "cell_type": "markdown",
   "id": "932de3e8",
   "metadata": {},
   "source": [
    "## Arithmetic Operators"
   ]
  },
  {
   "cell_type": "markdown",
   "id": "58ad98de",
   "metadata": {},
   "source": [
    "Just as any other programming language, the addition, subtraction , multiplication, division, modulo, exponential operator remains the same."
   ]
  },
  {
   "cell_type": "code",
   "execution_count": 15,
   "id": "c1611a3a",
   "metadata": {},
   "outputs": [
    {
     "name": "stdout",
     "output_type": "stream",
     "text": [
      "2.5\n"
     ]
    }
   ],
   "source": [
    "number = 1+2*3/4.0\n",
    "print(number)"
   ]
  },
  {
   "cell_type": "code",
   "execution_count": 17,
   "id": "7cdabf76",
   "metadata": {},
   "outputs": [
    {
     "name": "stdout",
     "output_type": "stream",
     "text": [
      "0.5\n"
     ]
    }
   ],
   "source": [
    "number=number%2\n",
    "print(number)"
   ]
  },
  {
   "cell_type": "code",
   "execution_count": 18,
   "id": "07114487",
   "metadata": {},
   "outputs": [
    {
     "name": "stdout",
     "output_type": "stream",
     "text": [
      "49\n",
      "8\n"
     ]
    }
   ],
   "source": [
    "squared=7**2\n",
    "cubed=2**3\n",
    "print(squared)\n",
    "print(cubed)"
   ]
  },
  {
   "cell_type": "markdown",
   "id": "61574036",
   "metadata": {},
   "source": [
    "## Using Operators with Strings"
   ]
  },
  {
   "cell_type": "markdown",
   "id": "d6ce760a",
   "metadata": {},
   "source": [
    "Python supports concatenating strings using the addition operator:\n",
    "\n"
   ]
  },
  {
   "cell_type": "code",
   "execution_count": 19,
   "id": "6eb34145",
   "metadata": {},
   "outputs": [
    {
     "name": "stdout",
     "output_type": "stream",
     "text": [
      "hello world\n"
     ]
    }
   ],
   "source": [
    "helloworld=\"hello\"+\" \"+\"world\"\n",
    "print(helloworld)"
   ]
  },
  {
   "cell_type": "markdown",
   "id": "f53f82e4",
   "metadata": {},
   "source": [
    "Python also supports multiplying strings to form a string with a repeating sequence:"
   ]
  },
  {
   "cell_type": "code",
   "execution_count": 20,
   "id": "07e9a8fd",
   "metadata": {},
   "outputs": [
    {
     "name": "stdout",
     "output_type": "stream",
     "text": [
      "hello hello hello hello hello hello hello hello hello hello \n"
     ]
    }
   ],
   "source": [
    "multiple_hellos=\"hello \"*10\n",
    "print(multiple_hellos)"
   ]
  },
  {
   "cell_type": "markdown",
   "id": "5e52407c",
   "metadata": {},
   "source": [
    "## Using Operators with Lists"
   ]
  },
  {
   "cell_type": "markdown",
   "id": "ca420e89",
   "metadata": {},
   "source": [
    "Lists can be joined with the addition operators:"
   ]
  },
  {
   "cell_type": "code",
   "execution_count": 22,
   "id": "e15751c5",
   "metadata": {},
   "outputs": [
    {
     "name": "stdout",
     "output_type": "stream",
     "text": [
      "[1, 3, 5, 7, 2, 4, 6, 8]\n",
      "1 2\n",
      "3 4\n",
      "5 6\n",
      "7 8\n"
     ]
    }
   ],
   "source": [
    "even_numbers=[2,4,6,8]\n",
    "odd_numbers=[1,3,5,7]\n",
    "all_numbers=odd_numbers+even_numbers\n",
    "print(all_numbers)\n",
    "# If you want to print it in a sequence\n",
    "for i in range(4):\n",
    "    print(odd_numbers[i],even_numbers[i])"
   ]
  },
  {
   "cell_type": "markdown",
   "id": "d9ad681f",
   "metadata": {},
   "source": [
    "Just as in strings, Python supports forming new lists with a repeating sequence using the multiplication operator:"
   ]
  },
  {
   "cell_type": "code",
   "execution_count": 23,
   "id": "9d12689d",
   "metadata": {},
   "outputs": [
    {
     "name": "stdout",
     "output_type": "stream",
     "text": [
      "[1, 2, 3, 1, 2, 3, 1, 2, 3]\n"
     ]
    }
   ],
   "source": [
    "print([1,2,3]*3)"
   ]
  },
  {
   "cell_type": "markdown",
   "id": "4157d0c7",
   "metadata": {},
   "source": [
    "# 5. String Formatting"
   ]
  },
  {
   "cell_type": "markdown",
   "id": "09ada396",
   "metadata": {},
   "source": [
    "Python uses C-style string formatting to create new, formatted strings. The \"%\" operator is used to format a set of variables enclosed in a \"tuple\" (a fixed size list), together with a format string, which contains normal text together with \"argument specifiers\", special symbols like \"%s\" and \"%d\"."
   ]
  },
  {
   "cell_type": "code",
   "execution_count": 24,
   "id": "7b708be6",
   "metadata": {},
   "outputs": [
    {
     "name": "stdout",
     "output_type": "stream",
     "text": [
      "Hello, Riya!\n"
     ]
    }
   ],
   "source": [
    "name=\"Riya\"\n",
    "print(\"Hello, %s!\" %name)"
   ]
  },
  {
   "cell_type": "markdown",
   "id": "c21a0092",
   "metadata": {},
   "source": [
    "To use two or more argument specifiers, use a tuple (parentheses):\n",
    "\n"
   ]
  },
  {
   "cell_type": "code",
   "execution_count": 26,
   "id": "9830d381",
   "metadata": {},
   "outputs": [
    {
     "name": "stdout",
     "output_type": "stream",
     "text": [
      "Riya is 21 years old.\n"
     ]
    }
   ],
   "source": [
    "name=\"Riya\"\n",
    "age=21\n",
    "print(\"%s is %d years old.\" %(name,age))"
   ]
  },
  {
   "cell_type": "markdown",
   "id": "9dcc1690",
   "metadata": {},
   "source": [
    "Any object which is not a string can be formatted using the %s operator as well. The string which returns from the \"repr\" method of that object is formatted as the string.   \n",
    "For example:"
   ]
  },
  {
   "cell_type": "code",
   "execution_count": 27,
   "id": "50f722c2",
   "metadata": {},
   "outputs": [
    {
     "name": "stdout",
     "output_type": "stream",
     "text": [
      "A list: [1, 2, 3]\n"
     ]
    }
   ],
   "source": [
    "# This prints out a list: [1,2,3]\n",
    "myList=[1,2,3]\n",
    "print(\"A list: %s\" %myList)"
   ]
  },
  {
   "cell_type": "markdown",
   "id": "bf7a3875",
   "metadata": {},
   "source": [
    "Here are some basic argument specifiers:   \n",
    "%s - String (or any object with string representation, like numbers)   \n",
    "%d - Integers   \n",
    "%f - Floating Point Numbers   \n",
    "%.< number of digits >f - Floating point numbers with a fixed amount of digits to the right of the dot.   \n",
    "%x / %X - Integers in hex representation (lowercase/uppercase)   "
   ]
  },
  {
   "cell_type": "markdown",
   "id": "4a26cde8",
   "metadata": {},
   "source": [
    "# 6. Basic String Operations"
   ]
  },
  {
   "cell_type": "markdown",
   "id": "30548d31",
   "metadata": {},
   "source": [
    "Strings are bits of text. They can be defined as anything between quotes:\n",
    "\n"
   ]
  },
  {
   "cell_type": "code",
   "execution_count": 28,
   "id": "b492bb0e",
   "metadata": {},
   "outputs": [],
   "source": [
    "astring=\"Hello World!\"\n",
    "astring2='Hello World!'"
   ]
  },
  {
   "cell_type": "code",
   "execution_count": 29,
   "id": "8211e2e0",
   "metadata": {},
   "outputs": [
    {
     "name": "stdout",
     "output_type": "stream",
     "text": [
      "12\n"
     ]
    }
   ],
   "source": [
    "# To check the length of string\n",
    "print(len(astring))"
   ]
  },
  {
   "cell_type": "code",
   "execution_count": 30,
   "id": "bb285ecc",
   "metadata": {},
   "outputs": [
    {
     "name": "stdout",
     "output_type": "stream",
     "text": [
      "4\n"
     ]
    }
   ],
   "source": [
    "# To check the index of a specific character- its first occourence.\n",
    "print(astring.index(\"o\"))"
   ]
  },
  {
   "cell_type": "code",
   "execution_count": 31,
   "id": "3e27a491",
   "metadata": {},
   "outputs": [
    {
     "name": "stdout",
     "output_type": "stream",
     "text": [
      "3\n"
     ]
    }
   ],
   "source": [
    "# To count the number of occourences of a character.\n",
    "print(astring.count(\"l\"))"
   ]
  },
  {
   "cell_type": "code",
   "execution_count": 32,
   "id": "3e6e21dc",
   "metadata": {},
   "outputs": [
    {
     "name": "stdout",
     "output_type": "stream",
     "text": [
      "lo W\n"
     ]
    }
   ],
   "source": [
    "# To slice a substring from a given string.\n",
    "print(astring[3:7])"
   ]
  },
  {
   "cell_type": "code",
   "execution_count": 33,
   "id": "f4a3fdfa",
   "metadata": {},
   "outputs": [
    {
     "name": "stdout",
     "output_type": "stream",
     "text": [
      "l \n"
     ]
    }
   ],
   "source": [
    "# To slice a substring but also step on a given string.\n",
    "print(astring[3:7:2])"
   ]
  },
  {
   "cell_type": "code",
   "execution_count": 34,
   "id": "54c209d2",
   "metadata": {},
   "outputs": [
    {
     "name": "stdout",
     "output_type": "stream",
     "text": [
      "!dlroW olleH\n"
     ]
    }
   ],
   "source": [
    "# There is no reverse function in python for string but using this you can reverse the string.\n",
    "print(astring[::-1])"
   ]
  },
  {
   "cell_type": "code",
   "execution_count": 35,
   "id": "70570a2e",
   "metadata": {},
   "outputs": [
    {
     "name": "stdout",
     "output_type": "stream",
     "text": [
      "HELLO WORLD!\n",
      "hello world!\n"
     ]
    }
   ],
   "source": [
    "# To convert the string into complete lower case or upper case we do the following.\n",
    "print(astring.upper())\n",
    "print(astring.lower())"
   ]
  },
  {
   "cell_type": "code",
   "execution_count": 36,
   "id": "d3b18156",
   "metadata": {},
   "outputs": [
    {
     "name": "stdout",
     "output_type": "stream",
     "text": [
      "True\n",
      "False\n"
     ]
    }
   ],
   "source": [
    "# In this we are checking if a string starts and ends with something secific.\n",
    "print(astring.startswith(\"Hello\"))\n",
    "print(astring.endswith(\"dsjhdfdhfd\"))"
   ]
  },
  {
   "cell_type": "code",
   "execution_count": 38,
   "id": "8fffd16f",
   "metadata": {},
   "outputs": [
    {
     "name": "stdout",
     "output_type": "stream",
     "text": [
      "['Hello', 'World!']\n"
     ]
    }
   ],
   "source": [
    "# To split the string into a bunch of strings grouped together in a list.\n",
    "ListOfWords=astring.split(\" \")\n",
    "print(ListOfWords)"
   ]
  },
  {
   "cell_type": "markdown",
   "id": "0f87330f",
   "metadata": {},
   "source": [
    "## String Validators"
   ]
  },
  {
   "cell_type": "markdown",
   "id": "9daa7b8e",
   "metadata": {},
   "source": [
    "Python has built-in string validation methods for basic data. It can check if a string is composed of alphabetical characters, alphanumeric characters, digits"
   ]
  },
  {
   "cell_type": "code",
   "execution_count": 27,
   "id": "cd2da0da",
   "metadata": {},
   "outputs": [
    {
     "name": "stdout",
     "output_type": "stream",
     "text": [
      "True\n"
     ]
    }
   ],
   "source": [
    "print('ab123'.isalnum())\n",
    "# This method checks if all the characters of a string are alphanumeric (a-z, A-Z and 0-9)."
   ]
  },
  {
   "cell_type": "code",
   "execution_count": 29,
   "id": "07155e2a",
   "metadata": {},
   "outputs": [
    {
     "name": "stdout",
     "output_type": "stream",
     "text": [
      "True\n",
      "False\n"
     ]
    }
   ],
   "source": [
    "print('abcD'.isalpha())\n",
    "print('abcd1'.isalpha())\n",
    "\n",
    "# This method checks if all the characters of a string are alphabetical (a-z and A-Z).\n",
    "\n"
   ]
  },
  {
   "cell_type": "code",
   "execution_count": 30,
   "id": "fa391d30",
   "metadata": {},
   "outputs": [
    {
     "name": "stdout",
     "output_type": "stream",
     "text": [
      "True\n"
     ]
    }
   ],
   "source": [
    "print('1234'.isdigit())\n",
    "# This method checks if all the characters of a string are digits (0-9).\n",
    "\n"
   ]
  },
  {
   "cell_type": "markdown",
   "id": "0d48e409",
   "metadata": {},
   "source": [
    "# 7. Conditions"
   ]
  },
  {
   "cell_type": "markdown",
   "id": "8d640550",
   "metadata": {},
   "source": [
    "- Decision making statements in programming languages decide the direction of flow of program execution.\n",
    "- There comes situations in real life when we need to make some decisions and based on these decisions, we decide what should we do next.\n",
    "- Similar situations arise in programming also where we need to make some decisions and based on these decision we will execute the next block of code."
   ]
  },
  {
   "cell_type": "markdown",
   "id": "9df8174e",
   "metadata": {},
   "source": [
    "Python uses boolean logic to evaluate conditions. The boolean values True and False are returned when an expression is compared or evaluated.    \n",
    "For example:   \n"
   ]
  },
  {
   "cell_type": "code",
   "execution_count": 39,
   "id": "a1ed809e",
   "metadata": {},
   "outputs": [
    {
     "name": "stdout",
     "output_type": "stream",
     "text": [
      "True\n",
      "False\n",
      "True\n",
      "False\n"
     ]
    }
   ],
   "source": [
    "x=2\n",
    "print(x==2)\n",
    "print(x==3)\n",
    "print(x<3)\n",
    "print(x>10)"
   ]
  },
  {
   "cell_type": "markdown",
   "id": "56cc2bd6",
   "metadata": {},
   "source": [
    "## Boolean Operators"
   ]
  },
  {
   "cell_type": "markdown",
   "id": "a57f3e6d",
   "metadata": {},
   "source": [
    "The \"and\" and \"or\" boolean operators allow building complex boolean expressions."
   ]
  },
  {
   "cell_type": "code",
   "execution_count": 41,
   "id": "ec75ffec",
   "metadata": {},
   "outputs": [
    {
     "name": "stdout",
     "output_type": "stream",
     "text": [
      "Your name is Riya and you are 21 years old.\n",
      "Your name is either Riya or Roshan.\n"
     ]
    }
   ],
   "source": [
    "name=\"Riya\"\n",
    "age=21\n",
    "if name==\"Riya\" and age==21:\n",
    "    print(\"Your name is Riya and you are 21 years old.\")\n",
    "if name==\"Riya\" or name==\"Roshan\":\n",
    "    print(\"Your name is either Riya or Roshan.\")"
   ]
  },
  {
   "cell_type": "markdown",
   "id": "2eaf9b2a",
   "metadata": {},
   "source": [
    "The \"in\" operator could be used to check if a specified object exists within an iterable object container, such as a list:"
   ]
  },
  {
   "cell_type": "code",
   "execution_count": 42,
   "id": "0e42592e",
   "metadata": {},
   "outputs": [
    {
     "name": "stdout",
     "output_type": "stream",
     "text": [
      "Your name is either Riya or Roshan\n"
     ]
    }
   ],
   "source": [
    "name=\"Riya\"\n",
    "if name in [\"Riya\",\"Roshan\"]:\n",
    "    print(\"Your name is either Riya or Roshan\")"
   ]
  },
  {
   "cell_type": "code",
   "execution_count": 43,
   "id": "20b1c85f",
   "metadata": {},
   "outputs": [
    {
     "name": "stdout",
     "output_type": "stream",
     "text": [
      "Enter a number to check if odd or even:12\n",
      "It is an even number.\n"
     ]
    }
   ],
   "source": [
    "# Python if-elif-else statement with indentation.\n",
    "number=int(input(\"Enter a number to check if odd or even:\"))\n",
    "if number%2==0:\n",
    "    print(\"It is an even number.\")\n",
    "else:\n",
    "    print(\"It is an odd number.\")"
   ]
  },
  {
   "cell_type": "markdown",
   "id": "6287de36",
   "metadata": {},
   "source": [
    "The is operator does not match the value of the variables, but the instance themselves."
   ]
  },
  {
   "cell_type": "code",
   "execution_count": 44,
   "id": "badb3ca2",
   "metadata": {},
   "outputs": [
    {
     "name": "stdout",
     "output_type": "stream",
     "text": [
      "True\n",
      "False\n",
      "True\n"
     ]
    }
   ],
   "source": [
    "x=[1,2,3]\n",
    "y=[1,2,3]\n",
    "print(x==y)\n",
    "print(x is y)\n",
    "print(x is x)"
   ]
  },
  {
   "cell_type": "markdown",
   "id": "50543a5c",
   "metadata": {},
   "source": [
    "The \"not\" operator inverts it."
   ]
  },
  {
   "cell_type": "code",
   "execution_count": 45,
   "id": "f947740e",
   "metadata": {},
   "outputs": [
    {
     "name": "stdout",
     "output_type": "stream",
     "text": [
      "True\n",
      "False\n"
     ]
    }
   ],
   "source": [
    "print(not False)\n",
    "print(not True)"
   ]
  },
  {
   "cell_type": "markdown",
   "id": "9369ffc0",
   "metadata": {},
   "source": [
    "# 8. Loops"
   ]
  },
  {
   "cell_type": "markdown",
   "id": "a6dd2d71",
   "metadata": {},
   "source": [
    "There are two types of loops in python: for loop and while loop."
   ]
  },
  {
   "cell_type": "markdown",
   "id": "30e8a43e",
   "metadata": {},
   "source": [
    "## The \"for\" Loop"
   ]
  },
  {
   "cell_type": "markdown",
   "id": "9c7a51e2",
   "metadata": {},
   "source": [
    "For loops iterate over a given sequence.   \n",
    "Here is an example:"
   ]
  },
  {
   "cell_type": "code",
   "execution_count": 46,
   "id": "bd103b08",
   "metadata": {},
   "outputs": [
    {
     "name": "stdout",
     "output_type": "stream",
     "text": [
      "2\n",
      "3\n",
      "5\n",
      "7\n"
     ]
    }
   ],
   "source": [
    "primes=[2,3,5,7]\n",
    "for prime in primes:\n",
    "    print(prime)"
   ]
  },
  {
   "cell_type": "markdown",
   "id": "5c18fecb",
   "metadata": {},
   "source": [
    "For loops can iterate over a sequence of numbers using the \"range\" and \"xrange\" functions.   \n",
    "The difference between range and xrange is that the range function returns a new list with numbers of that specified range, whereas xrange returns an iterator, which is more efficient. (Python 3 uses the range function, which acts like xrange). Note that the range function is zero based."
   ]
  },
  {
   "cell_type": "code",
   "execution_count": 47,
   "id": "d63cd604",
   "metadata": {},
   "outputs": [
    {
     "name": "stdout",
     "output_type": "stream",
     "text": [
      "3\n",
      "5\n",
      "7\n"
     ]
    }
   ],
   "source": [
    "# Lets say I want to print out 3,5,7 then:\n",
    "for x in range(3,8,2):\n",
    "    print(x)"
   ]
  },
  {
   "cell_type": "markdown",
   "id": "f197ed6f",
   "metadata": {},
   "source": [
    "## The \"while\" Loop"
   ]
  },
  {
   "cell_type": "markdown",
   "id": "7b3ccb5c",
   "metadata": {},
   "source": [
    "While loops repeat as long as a certain boolean condition is met.   \n",
    "For example:"
   ]
  },
  {
   "cell_type": "code",
   "execution_count": 48,
   "id": "cacb9834",
   "metadata": {},
   "outputs": [
    {
     "name": "stdout",
     "output_type": "stream",
     "text": [
      "0\n",
      "1\n",
      "2\n",
      "3\n",
      "4\n"
     ]
    }
   ],
   "source": [
    "count=0 #initialisation\n",
    "while count<5:  #condition of the loop\n",
    "    print(count)\n",
    "    count+=1 #increment"
   ]
  },
  {
   "cell_type": "markdown",
   "id": "7b62abff",
   "metadata": {},
   "source": [
    "## The \"Break\" and \"Continue\" Statements"
   ]
  },
  {
   "cell_type": "markdown",
   "id": "9fd5c5b8",
   "metadata": {},
   "source": [
    "\"break\" is used to exit a for loop or a while loop, whereas \"continue\" is used to skip the current block, and return to the \"for\" or \"while\" statement. These \"break\" and \"continue\" statements are called Jump Statements.\n",
    "A few examples:"
   ]
  },
  {
   "cell_type": "code",
   "execution_count": 50,
   "id": "f9b58f3c",
   "metadata": {},
   "outputs": [
    {
     "name": "stdout",
     "output_type": "stream",
     "text": [
      "0\n",
      "1\n",
      "2\n",
      "3\n",
      "4\n",
      "1\n",
      "3\n",
      "5\n",
      "7\n",
      "9\n"
     ]
    }
   ],
   "source": [
    "count=0\n",
    "while True:\n",
    "    print(count)\n",
    "    count+=1\n",
    "    if count>=5:\n",
    "        break\n",
    "        \n",
    "# This is how we use break in a loop\n",
    "for x in range(10):\n",
    "    if x%2==0:\n",
    "        continue\n",
    "    print(x)\n",
    "\n",
    "# This is how we use continue in a loop"
   ]
  },
  {
   "cell_type": "markdown",
   "id": "65028717",
   "metadata": {},
   "source": [
    "## Can we use \"else\" clause for loops?"
   ]
  },
  {
   "cell_type": "markdown",
   "id": "f9ecd148",
   "metadata": {},
   "source": [
    "Unlike languages like C,CPP.. we can use else for loops. When the loop condition of \"for\" or \"while\" statement fails then code part in \"else\" is executed. If a break statement is executed inside the for loop then the \"else\" part is skipped. Note that the \"else\" part is executed even if there is a continue statement."
   ]
  },
  {
   "cell_type": "code",
   "execution_count": 3,
   "id": "a06063c5",
   "metadata": {
    "scrolled": true
   },
   "outputs": [
    {
     "name": "stdout",
     "output_type": "stream",
     "text": [
      "0\n",
      "1\n",
      "2\n",
      "3\n",
      "4\n",
      "Count value reached 5\n"
     ]
    }
   ],
   "source": [
    "count=0\n",
    "while count<5:\n",
    "    print(count)\n",
    "    count+=1\n",
    "else:\n",
    "    print(\"Count value reached %d\"%(count))\n",
    "    "
   ]
  },
  {
   "cell_type": "markdown",
   "id": "a9104de9",
   "metadata": {},
   "source": [
    "# 9. Functions"
   ]
  },
  {
   "cell_type": "markdown",
   "id": "5a32a1a4",
   "metadata": {},
   "source": [
    "Functions are a convenient way to divide your code into useful blocks, allowing us to order our code, make it more readable, reuse it and save some time. Also functions are a key way to define interfaces so programmers can share their code."
   ]
  },
  {
   "cell_type": "code",
   "execution_count": 4,
   "id": "fd202469",
   "metadata": {},
   "outputs": [],
   "source": [
    "# This is defining a function\n",
    "def myFunction():\n",
    "    print(\"Hello from my function\")"
   ]
  },
  {
   "cell_type": "code",
   "execution_count": 6,
   "id": "78fb6d1d",
   "metadata": {},
   "outputs": [
    {
     "name": "stdout",
     "output_type": "stream",
     "text": [
      "Hello from my function\n"
     ]
    }
   ],
   "source": [
    "# This is calling a function\n",
    "myFunction()"
   ]
  },
  {
   "cell_type": "code",
   "execution_count": 7,
   "id": "766bba22",
   "metadata": {},
   "outputs": [],
   "source": [
    "def my_function_with_args(username,greeting):\n",
    "    print(\"Hello %s, From my function I wish you %s\"%(username,greeting))"
   ]
  },
  {
   "cell_type": "code",
   "execution_count": 8,
   "id": "fa017084",
   "metadata": {},
   "outputs": [
    {
     "name": "stdout",
     "output_type": "stream",
     "text": [
      "Hello Riya, From my function I wish you All the Best\n"
     ]
    }
   ],
   "source": [
    "my_function_with_args(\"Riya\",\"All the Best\")"
   ]
  },
  {
   "cell_type": "code",
   "execution_count": 10,
   "id": "bff14ad1",
   "metadata": {},
   "outputs": [],
   "source": [
    "# Functions can also return a value\n",
    "def sumTwoNumbers(num1,num2):\n",
    "    sum1=num1+num2\n",
    "    return sum1"
   ]
  },
  {
   "cell_type": "code",
   "execution_count": 11,
   "id": "bb67106d",
   "metadata": {},
   "outputs": [
    {
     "data": {
      "text/plain": [
       "12"
      ]
     },
     "execution_count": 11,
     "metadata": {},
     "output_type": "execute_result"
    }
   ],
   "source": [
    "sumTwoNumbers(5,7)"
   ]
  },
  {
   "cell_type": "markdown",
   "id": "60e73aad",
   "metadata": {},
   "source": [
    "### Docstring"
   ]
  },
  {
   "cell_type": "code",
   "execution_count": 39,
   "id": "e489c2c9",
   "metadata": {},
   "outputs": [],
   "source": [
    "def least_difference(a, b, c):\n",
    "    \"\"\"Return the smallest difference between any two numbers\n",
    "    among a, b and c.\n",
    "    \n",
    "    >>> least_difference(1, 5, -5)\n",
    "    4\n",
    "    \"\"\"\n",
    "    diff1 = abs(a - b)\n",
    "    diff2 = abs(b - c)\n",
    "    diff3 = abs(a - c)\n",
    "    return min(diff1, diff2, diff3)"
   ]
  },
  {
   "cell_type": "markdown",
   "id": "c1ceb08e",
   "metadata": {},
   "source": [
    "The docstring is a triple-quoted string (which may span multiple lines) that comes immediately after the header of a function. When we call help() on a function, it shows the docstring.\n",
    "\n"
   ]
  },
  {
   "cell_type": "markdown",
   "id": "9bc59f7b",
   "metadata": {},
   "source": [
    "### round()"
   ]
  },
  {
   "cell_type": "code",
   "execution_count": 43,
   "id": "2b63d314",
   "metadata": {},
   "outputs": [
    {
     "name": "stdout",
     "output_type": "stream",
     "text": [
      "120.1019\n",
      "12000.0\n"
     ]
    }
   ],
   "source": [
    "# We can use this when we are dealing with large amount of data and do not need to use the accurate data.\n",
    "print(round(120.1019238,4))\n",
    "print(round(12038.8477,-2))"
   ]
  },
  {
   "cell_type": "markdown",
   "id": "899c6a91",
   "metadata": {},
   "source": [
    "# 10. Classes and Objects"
   ]
  },
  {
   "cell_type": "markdown",
   "id": "b4316dd5",
   "metadata": {},
   "source": [
    "Objects are an encapsulation of variables and functions into a single entity. Objects get their variables and functions from classes. Classes are essentially a template to create your objects"
   ]
  },
  {
   "cell_type": "markdown",
   "id": "62373987",
   "metadata": {},
   "source": [
    "Classes provide a means of bundling data and functionality together. Creating a new class creates a new type of object, allowing new instances of that type to be made. Each class instance can have attributes attached to it for maintaining its state. Class instances can also have methods (defined by its class) for modifying its state."
   ]
  },
  {
   "cell_type": "markdown",
   "id": "2b00484f",
   "metadata": {},
   "source": [
    "Python classes provide all the standard features of Object Oriented Programming: the class inheritance mechanism allows multiple base classes, a derived class can override any methods of its base class or classes, and a method can call the method of a base class with the same name. Objects can contain arbitrary amounts and kinds of data. As is true for modules, classes partake of the dynamic nature of Python: they are created at runtime, and can be modified further after creation."
   ]
  },
  {
   "cell_type": "code",
   "execution_count": 17,
   "id": "34a8824f",
   "metadata": {},
   "outputs": [
    {
     "name": "stdout",
     "output_type": "stream",
     "text": [
      "bleh\n",
      "This is a message inside the class.\n",
      "True\n"
     ]
    }
   ],
   "source": [
    "class MyClass:\n",
    "    variable=\"bleh\"\n",
    "    \n",
    "    def function(self):\n",
    "        print(\"This is a message inside the class.\")\n",
    "        return True\n",
    "# Now the variable \"myobjectx\" holds an object of the class \"MyClass\" that contains the variable and the function defined within the class called \"MyClass\".\n",
    "\n",
    "MyObjectX=MyClass()\n",
    "print(MyObjectX.variable)\n",
    "print(MyObjectX.function())"
   ]
  },
  {
   "cell_type": "markdown",
   "id": "76377d59",
   "metadata": {},
   "source": [
    "## init()"
   ]
  },
  {
   "cell_type": "markdown",
   "id": "1b89dfb9",
   "metadata": {},
   "source": [
    "The _ _init_ _ () function, is a special function that is called when the class is being initiated. It's used for asigning values in a class."
   ]
  },
  {
   "cell_type": "code",
   "execution_count": 18,
   "id": "282d2566",
   "metadata": {},
   "outputs": [],
   "source": [
    "class NumberHolder:\n",
    "    def __init__(self,number):\n",
    "        self.number=number"
   ]
  },
  {
   "cell_type": "markdown",
   "id": "be14f078",
   "metadata": {},
   "source": [
    "# 11. Dictionaries"
   ]
  },
  {
   "cell_type": "markdown",
   "id": "71228e61",
   "metadata": {},
   "source": [
    "A dictionary is a data type similar to arrays, but works with keys and values instead of indexes. Each value stored in a dictionary can be accessed using a key, which is any type of object (a string, a number, a list, etc.) instead of using its index to address it."
   ]
  },
  {
   "cell_type": "code",
   "execution_count": 19,
   "id": "1d067315",
   "metadata": {},
   "outputs": [
    {
     "name": "stdout",
     "output_type": "stream",
     "text": [
      "{'User1': 290238475, 'User2': 237845694, 'User3': 839247583}\n"
     ]
    }
   ],
   "source": [
    "phonebook={}\n",
    "phonebook[\"User1\"]=290238475\n",
    "phonebook[\"User2\"]=237845694\n",
    "phonebook[\"User3\"]=839247583\n",
    "print(phonebook)"
   ]
  },
  {
   "cell_type": "code",
   "execution_count": 4,
   "id": "cf5b2cbd",
   "metadata": {},
   "outputs": [
    {
     "name": "stdout",
     "output_type": "stream",
     "text": [
      "{'User1': 32089475, 'User2': 27837746, 'User3': 84043857}\n"
     ]
    }
   ],
   "source": [
    "phonebook={\n",
    "    \"User1\":32089475,\n",
    "    \"User2\":27837746,\n",
    "    \"User3\":84043857\n",
    "}\n",
    "\n",
    "print(phonebook)"
   ]
  },
  {
   "cell_type": "markdown",
   "id": "bff238ec",
   "metadata": {},
   "source": [
    "## Iterating over dictionaries"
   ]
  },
  {
   "cell_type": "markdown",
   "id": "23215db2",
   "metadata": {},
   "source": [
    "Dictionaries can be iterated over, just like a list. However, a dictionary, unlike a list, does not keep the order of the values stored in it. To iterate over key value pairs, use the following syntax:"
   ]
  },
  {
   "cell_type": "code",
   "execution_count": 5,
   "id": "a94ade12",
   "metadata": {},
   "outputs": [
    {
     "name": "stdout",
     "output_type": "stream",
     "text": [
      "Phone number of User1 is 32089475\n",
      "Phone number of User2 is 27837746\n",
      "Phone number of User3 is 84043857\n"
     ]
    }
   ],
   "source": [
    "for name,number in phonebook.items():\n",
    "    print(\"Phone number of %s is %d\"%(name,number))"
   ]
  },
  {
   "cell_type": "markdown",
   "id": "09979ca0",
   "metadata": {},
   "source": [
    "## Removing a Value"
   ]
  },
  {
   "cell_type": "code",
   "execution_count": 6,
   "id": "5cd2ef8f",
   "metadata": {},
   "outputs": [
    {
     "name": "stdout",
     "output_type": "stream",
     "text": [
      "{'User2': 27837746, 'User3': 84043857}\n"
     ]
    }
   ],
   "source": [
    "del phonebook[\"User1\"]\n",
    "print(phonebook)"
   ]
  },
  {
   "cell_type": "markdown",
   "id": "10ef8fd8",
   "metadata": {},
   "source": [
    "Or we could use this:"
   ]
  },
  {
   "cell_type": "code",
   "execution_count": 7,
   "id": "9f25c6a3",
   "metadata": {},
   "outputs": [
    {
     "name": "stdout",
     "output_type": "stream",
     "text": [
      "{'User3': 84043857}\n"
     ]
    }
   ],
   "source": [
    "phonebook.pop(\"User2\")\n",
    "print(phonebook)"
   ]
  },
  {
   "cell_type": "markdown",
   "id": "58924e82",
   "metadata": {},
   "source": [
    "## Add a Value"
   ]
  },
  {
   "cell_type": "code",
   "execution_count": 9,
   "id": "a7ce75fc",
   "metadata": {},
   "outputs": [
    {
     "name": "stdout",
     "output_type": "stream",
     "text": [
      "{'User3': 84043857, 'User1': 89234373, 'User2': 37827484}\n"
     ]
    }
   ],
   "source": [
    "phonebook[\"User1\"]=89234373\n",
    "phonebook[\"User2\"]=37827484\n",
    "print(phonebook)"
   ]
  },
  {
   "cell_type": "markdown",
   "id": "34c72238",
   "metadata": {},
   "source": [
    "# 12. Modules and Packages"
   ]
  },
  {
   "cell_type": "markdown",
   "id": "689eb11b",
   "metadata": {},
   "source": [
    "A module is a piece of software that has a specific functionality. For example, when building a ping pong game, one module would be responsible for the game logic, and\n",
    "another module would be responsible for drawing the game on the screen. Each module is a different file, which can be edited separately."
   ]
  },
  {
   "cell_type": "markdown",
   "id": "536810b8",
   "metadata": {},
   "source": [
    "## Writing Modules"
   ]
  },
  {
   "cell_type": "markdown",
   "id": "603bc85e",
   "metadata": {},
   "source": [
    "Modules in Python are simply Python files with a .py extension. The name of the module will be the name of the file. A Python module can have a set of functions, classes or variables defined and implemented. In the example above, we will have two files, we will have:"
   ]
  },
  {
   "cell_type": "markdown",
   "id": "cfef7042",
   "metadata": {},
   "source": [
    "mygame/   \n",
    "\n",
    "mygame/game.py   \n",
    "\n",
    "mygame/draw.py"
   ]
  },
  {
   "cell_type": "markdown",
   "id": "cf50562d",
   "metadata": {},
   "source": [
    "The Python script game.py will implement the game. It will use the function draw_game from the file draw.py, or in other words, thedraw module, that implements the logic for drawing the game on the screen.\n",
    "\n"
   ]
  },
  {
   "cell_type": "markdown",
   "id": "6362f880",
   "metadata": {},
   "source": [
    "Modules are imported from other modules using the import command. In this example, the game.py script may look something like this:\n",
    "\n"
   ]
  },
  {
   "cell_type": "markdown",
   "id": "b53867dd",
   "metadata": {},
   "source": [
    "## Importing Module objects to the current namespace"
   ]
  },
  {
   "cell_type": "markdown",
   "id": "73d95969",
   "metadata": {},
   "source": [
    "We may also import the function draw_game directly into the main script's namespace, by using the from command."
   ]
  },
  {
   "cell_type": "raw",
   "id": "7f9a5690",
   "metadata": {},
   "source": [
    "from draw import draw_game\n",
    "\n",
    "def main():\n",
    "    result=play_game()\n",
    "    draw_game(result)"
   ]
  },
  {
   "cell_type": "markdown",
   "id": "1b30f4c6",
   "metadata": {},
   "source": [
    "The advantages of using this notation is that it is easier to use the functions inside the current module because you don't need to specify which module the function comes from. However, any namespace cannot have two objects with the exact same name, so the import command may replace an existing object in the namespace."
   ]
  },
  {
   "cell_type": "markdown",
   "id": "029bda96",
   "metadata": {},
   "source": [
    "## Importing all objects from a module"
   ]
  },
  {
   "cell_type": "markdown",
   "id": "f096e7c6",
   "metadata": {},
   "source": [
    "We may also use the import * command to import all objects from a specific module, like this:"
   ]
  },
  {
   "cell_type": "raw",
   "id": "5f3d4c21",
   "metadata": {},
   "source": [
    "from draw import *\n",
    "\n",
    "def main():\n",
    "    result = play_game()\n",
    "    draw_game(result)"
   ]
  },
  {
   "cell_type": "markdown",
   "id": "75a2734c",
   "metadata": {},
   "source": [
    "This might be a bit risky as changes in the module might affect the module which imports it, but it is shorter and also does not require you to specify which objects you wish to import from the module."
   ]
  },
  {
   "cell_type": "markdown",
   "id": "ca78ffcb",
   "metadata": {},
   "source": [
    "## Custom Import Name"
   ]
  },
  {
   "cell_type": "markdown",
   "id": "0ded37bc",
   "metadata": {},
   "source": [
    "We may also load modules under any name we want. This is useful when we want to import a module conditionally to use the same name in the rest of the code.\n",
    "\n",
    "For example, if you have two draw modules with slighty different names - you may do the following:"
   ]
  },
  {
   "cell_type": "raw",
   "id": "26920eb2",
   "metadata": {},
   "source": [
    "if visual_mode:\n",
    "    # in visual mode, we draw using graphics\n",
    "    import draw_visual as draw\n",
    "else:\n",
    "    # in textual mode, we print out text\n",
    "    import draw_textual as draw\n",
    "\n",
    "def main():\n",
    "    result = play_game()\n",
    "    # this can either be visual or textual depending on visual_mode\n",
    "    draw.draw_game(result)"
   ]
  },
  {
   "cell_type": "markdown",
   "id": "504e456f",
   "metadata": {},
   "source": [
    "## Module Initialization"
   ]
  },
  {
   "cell_type": "markdown",
   "id": "d9843f58",
   "metadata": {},
   "source": [
    "The first time a module is loaded into a running Python script, it is initialized by executing the code in the module once. If another module in your code imports the same module again, it will not be loaded twice but once only - so local variables inside the module act as a \"singleton\" - they are initialized only once.\n",
    "\n",
    "This is useful to know, because this means that you can rely on this behavior for initializing objects. For example:\n",
    "\n"
   ]
  },
  {
   "cell_type": "raw",
   "id": "9add7f13",
   "metadata": {},
   "source": [
    "def draw_game():\n",
    "    # when clearing the screen we can use the main screen object initialized in this module\n",
    "    clear_screen(main_screen)\n",
    "    ...\n",
    "\n",
    "def clear_screen(screen):\n",
    "    ...\n",
    "\n",
    "class Screen():\n",
    "    ...\n",
    "\n",
    "# initialize main_screen as a singleton\n",
    "main_screen = Screen()"
   ]
  },
  {
   "cell_type": "markdown",
   "id": "f9d878f4",
   "metadata": {},
   "source": [
    "## Extending Module load path"
   ]
  },
  {
   "cell_type": "markdown",
   "id": "6d340ab8",
   "metadata": {},
   "source": [
    "There are a couple of ways we could tell the Python interpreter where to look for modules, aside from the default, which is the local directory and the built-in modules. You could either use the environment variable PYTHONPATH to specify additional directories to look for modules in, like this:"
   ]
  },
  {
   "cell_type": "raw",
   "id": "579d6277",
   "metadata": {},
   "source": [
    "PYTHONPATH=/foo python game.py"
   ]
  },
  {
   "cell_type": "markdown",
   "id": "5a8b8d78",
   "metadata": {},
   "source": [
    "This will execute game.py, and will enable the script to load modules from the foo directory as well as the local directory.\n",
    "\n",
    "Another method is the sys.path.append function. You may execute it before running an import command:"
   ]
  },
  {
   "cell_type": "raw",
   "id": "34221116",
   "metadata": {},
   "source": [
    "sys.path.append(\"/foo\")"
   ]
  },
  {
   "cell_type": "markdown",
   "id": "0ad904f1",
   "metadata": {},
   "source": [
    "This will add the foo directory to the list of paths to look for modules in as well.\n",
    "\n"
   ]
  },
  {
   "cell_type": "markdown",
   "id": "ad4eb5af",
   "metadata": {},
   "source": [
    "## Exploring Built-in Modules"
   ]
  },
  {
   "cell_type": "markdown",
   "id": "7bf0d873",
   "metadata": {},
   "source": [
    "If we want to import the module urllib, which enables us to create read data from URLs, we simply import the module:\n",
    "\n"
   ]
  },
  {
   "cell_type": "code",
   "execution_count": 19,
   "id": "51300d11",
   "metadata": {},
   "outputs": [],
   "source": [
    "# import the library\n",
    "import urllib\n",
    "\n"
   ]
  },
  {
   "cell_type": "markdown",
   "id": "4ab63856",
   "metadata": {},
   "source": [
    "We can look for which functions are implemented in each module by using the dir function:\n",
    "\n"
   ]
  },
  {
   "cell_type": "code",
   "execution_count": 20,
   "id": "956c8f45",
   "metadata": {},
   "outputs": [
    {
     "data": {
      "text/plain": [
       "['__builtins__',\n",
       " '__cached__',\n",
       " '__doc__',\n",
       " '__file__',\n",
       " '__loader__',\n",
       " '__name__',\n",
       " '__package__',\n",
       " '__path__',\n",
       " '__spec__',\n",
       " 'error',\n",
       " 'parse',\n",
       " 'request',\n",
       " 'response']"
      ]
     },
     "execution_count": 20,
     "metadata": {},
     "output_type": "execute_result"
    }
   ],
   "source": [
    "dir(urllib)"
   ]
  },
  {
   "cell_type": "markdown",
   "id": "7deb9bec",
   "metadata": {},
   "source": [
    "When we find the function in the module we want to use, we can read about it more using the help function, inside the Python interpreter:\n",
    "\n"
   ]
  },
  {
   "cell_type": "code",
   "execution_count": 23,
   "id": "3b9b0fb2",
   "metadata": {},
   "outputs": [
    {
     "name": "stdout",
     "output_type": "stream",
     "text": [
      "Help on module urllib.request in urllib:\n",
      "\n",
      "NAME\n",
      "    urllib.request - An extensible library for opening URLs using a variety of protocols\n",
      "\n",
      "MODULE REFERENCE\n",
      "    https://docs.python.org/3.9/library/urllib.request\n",
      "    \n",
      "    The following documentation is automatically generated from the Python\n",
      "    source files.  It may be incomplete, incorrect or include features that\n",
      "    are considered implementation detail and may vary between Python\n",
      "    implementations.  When in doubt, consult the module reference at the\n",
      "    location listed above.\n",
      "\n",
      "DESCRIPTION\n",
      "    The simplest way to use this module is to call the urlopen function,\n",
      "    which accepts a string containing a URL or a Request object (described\n",
      "    below).  It opens the URL and returns the results as file-like\n",
      "    object; the returned object has some extra methods described below.\n",
      "    \n",
      "    The OpenerDirector manages a collection of Handler objects that do\n",
      "    all the actual work.  Each Handler implements a particular protocol or\n",
      "    option.  The OpenerDirector is a composite object that invokes the\n",
      "    Handlers needed to open the requested URL.  For example, the\n",
      "    HTTPHandler performs HTTP GET and POST requests and deals with\n",
      "    non-error returns.  The HTTPRedirectHandler automatically deals with\n",
      "    HTTP 301, 302, 303 and 307 redirect errors, and the HTTPDigestAuthHandler\n",
      "    deals with digest authentication.\n",
      "    \n",
      "    urlopen(url, data=None) -- Basic usage is the same as original\n",
      "    urllib.  pass the url and optionally data to post to an HTTP URL, and\n",
      "    get a file-like object back.  One difference is that you can also pass\n",
      "    a Request instance instead of URL.  Raises a URLError (subclass of\n",
      "    OSError); for HTTP errors, raises an HTTPError, which can also be\n",
      "    treated as a valid response.\n",
      "    \n",
      "    build_opener -- Function that creates a new OpenerDirector instance.\n",
      "    Will install the default handlers.  Accepts one or more Handlers as\n",
      "    arguments, either instances or Handler classes that it will\n",
      "    instantiate.  If one of the argument is a subclass of the default\n",
      "    handler, the argument will be installed instead of the default.\n",
      "    \n",
      "    install_opener -- Installs a new opener as the default opener.\n",
      "    \n",
      "    objects of interest:\n",
      "    \n",
      "    OpenerDirector -- Sets up the User Agent as the Python-urllib client and manages\n",
      "    the Handler classes, while dealing with requests and responses.\n",
      "    \n",
      "    Request -- An object that encapsulates the state of a request.  The\n",
      "    state can be as simple as the URL.  It can also include extra HTTP\n",
      "    headers, e.g. a User-Agent.\n",
      "    \n",
      "    BaseHandler --\n",
      "    \n",
      "    internals:\n",
      "    BaseHandler and parent\n",
      "    _call_chain conventions\n",
      "    \n",
      "    Example usage:\n",
      "    \n",
      "    import urllib.request\n",
      "    \n",
      "    # set up authentication info\n",
      "    authinfo = urllib.request.HTTPBasicAuthHandler()\n",
      "    authinfo.add_password(realm='PDQ Application',\n",
      "                          uri='https://mahler:8092/site-updates.py',\n",
      "                          user='klem',\n",
      "                          passwd='geheim$parole')\n",
      "    \n",
      "    proxy_support = urllib.request.ProxyHandler({\"http\" : \"http://ahad-haam:3128\"})\n",
      "    \n",
      "    # build a new opener that adds authentication and caching FTP handlers\n",
      "    opener = urllib.request.build_opener(proxy_support, authinfo,\n",
      "                                         urllib.request.CacheFTPHandler)\n",
      "    \n",
      "    # install it\n",
      "    urllib.request.install_opener(opener)\n",
      "    \n",
      "    f = urllib.request.urlopen('https://www.python.org/')\n",
      "\n",
      "CLASSES\n",
      "    builtins.object\n",
      "        AbstractBasicAuthHandler\n",
      "            HTTPBasicAuthHandler(AbstractBasicAuthHandler, BaseHandler)\n",
      "            ProxyBasicAuthHandler(AbstractBasicAuthHandler, BaseHandler)\n",
      "        AbstractDigestAuthHandler\n",
      "        BaseHandler\n",
      "            DataHandler\n",
      "            FTPHandler\n",
      "                CacheFTPHandler\n",
      "            FileHandler\n",
      "            HTTPCookieProcessor\n",
      "            HTTPDefaultErrorHandler\n",
      "            HTTPDigestAuthHandler(BaseHandler, AbstractDigestAuthHandler)\n",
      "            HTTPErrorProcessor\n",
      "            HTTPRedirectHandler\n",
      "            ProxyDigestAuthHandler(BaseHandler, AbstractDigestAuthHandler)\n",
      "            ProxyHandler\n",
      "            UnknownHandler\n",
      "        HTTPPasswordMgr\n",
      "            HTTPPasswordMgrWithDefaultRealm\n",
      "                HTTPPasswordMgrWithPriorAuth\n",
      "        OpenerDirector\n",
      "        Request\n",
      "        URLopener\n",
      "            FancyURLopener\n",
      "    AbstractHTTPHandler(BaseHandler)\n",
      "        HTTPHandler\n",
      "        HTTPSHandler\n",
      "    \n",
      "    class AbstractBasicAuthHandler(builtins.object)\n",
      "     |  AbstractBasicAuthHandler(password_mgr=None)\n",
      "     |  \n",
      "     |  Methods defined here:\n",
      "     |  \n",
      "     |  __init__(self, password_mgr=None)\n",
      "     |      Initialize self.  See help(type(self)) for accurate signature.\n",
      "     |  \n",
      "     |  http_error_auth_reqed(self, authreq, host, req, headers)\n",
      "     |  \n",
      "     |  http_request(self, req)\n",
      "     |  \n",
      "     |  http_response(self, req, response)\n",
      "     |  \n",
      "     |  https_request = http_request(self, req)\n",
      "     |  \n",
      "     |  https_response = http_response(self, req, response)\n",
      "     |  \n",
      "     |  retry_http_basic_auth(self, host, req, realm)\n",
      "     |  \n",
      "     |  ----------------------------------------------------------------------\n",
      "     |  Data descriptors defined here:\n",
      "     |  \n",
      "     |  __dict__\n",
      "     |      dictionary for instance variables (if defined)\n",
      "     |  \n",
      "     |  __weakref__\n",
      "     |      list of weak references to the object (if defined)\n",
      "     |  \n",
      "     |  ----------------------------------------------------------------------\n",
      "     |  Data and other attributes defined here:\n",
      "     |  \n",
      "     |  rx = re.compile('(?:^|,)[ \\t]*([^ \\t,]+)[ \\t]+realm=([\"\\']?)([^\"\\']*)\\...\n",
      "    \n",
      "    class AbstractDigestAuthHandler(builtins.object)\n",
      "     |  AbstractDigestAuthHandler(passwd=None)\n",
      "     |  \n",
      "     |  Methods defined here:\n",
      "     |  \n",
      "     |  __init__(self, passwd=None)\n",
      "     |      Initialize self.  See help(type(self)) for accurate signature.\n",
      "     |  \n",
      "     |  get_algorithm_impls(self, algorithm)\n",
      "     |  \n",
      "     |  get_authorization(self, req, chal)\n",
      "     |  \n",
      "     |  get_cnonce(self, nonce)\n",
      "     |  \n",
      "     |  get_entity_digest(self, data, chal)\n",
      "     |  \n",
      "     |  http_error_auth_reqed(self, auth_header, host, req, headers)\n",
      "     |  \n",
      "     |  reset_retry_count(self)\n",
      "     |  \n",
      "     |  retry_http_digest_auth(self, req, auth)\n",
      "     |  \n",
      "     |  ----------------------------------------------------------------------\n",
      "     |  Data descriptors defined here:\n",
      "     |  \n",
      "     |  __dict__\n",
      "     |      dictionary for instance variables (if defined)\n",
      "     |  \n",
      "     |  __weakref__\n",
      "     |      list of weak references to the object (if defined)\n",
      "    \n",
      "    class BaseHandler(builtins.object)\n",
      "     |  Methods defined here:\n",
      "     |  \n",
      "     |  __lt__(self, other)\n",
      "     |      Return self<value.\n",
      "     |  \n",
      "     |  add_parent(self, parent)\n",
      "     |  \n",
      "     |  close(self)\n",
      "     |  \n",
      "     |  ----------------------------------------------------------------------\n",
      "     |  Data descriptors defined here:\n",
      "     |  \n",
      "     |  __dict__\n",
      "     |      dictionary for instance variables (if defined)\n",
      "     |  \n",
      "     |  __weakref__\n",
      "     |      list of weak references to the object (if defined)\n",
      "     |  \n",
      "     |  ----------------------------------------------------------------------\n",
      "     |  Data and other attributes defined here:\n",
      "     |  \n",
      "     |  handler_order = 500\n",
      "    \n",
      "    class CacheFTPHandler(FTPHandler)\n",
      "     |  Method resolution order:\n",
      "     |      CacheFTPHandler\n",
      "     |      FTPHandler\n",
      "     |      BaseHandler\n",
      "     |      builtins.object\n",
      "     |  \n",
      "     |  Methods defined here:\n",
      "     |  \n",
      "     |  __init__(self)\n",
      "     |      Initialize self.  See help(type(self)) for accurate signature.\n",
      "     |  \n",
      "     |  check_cache(self)\n",
      "     |  \n",
      "     |  clear_cache(self)\n",
      "     |  \n",
      "     |  connect_ftp(self, user, passwd, host, port, dirs, timeout)\n",
      "     |  \n",
      "     |  setMaxConns(self, m)\n",
      "     |  \n",
      "     |  setTimeout(self, t)\n",
      "     |  \n",
      "     |  ----------------------------------------------------------------------\n",
      "     |  Methods inherited from FTPHandler:\n",
      "     |  \n",
      "     |  ftp_open(self, req)\n",
      "     |  \n",
      "     |  ----------------------------------------------------------------------\n",
      "     |  Methods inherited from BaseHandler:\n",
      "     |  \n",
      "     |  __lt__(self, other)\n",
      "     |      Return self<value.\n",
      "     |  \n",
      "     |  add_parent(self, parent)\n",
      "     |  \n",
      "     |  close(self)\n",
      "     |  \n",
      "     |  ----------------------------------------------------------------------\n",
      "     |  Data descriptors inherited from BaseHandler:\n",
      "     |  \n",
      "     |  __dict__\n",
      "     |      dictionary for instance variables (if defined)\n",
      "     |  \n",
      "     |  __weakref__\n",
      "     |      list of weak references to the object (if defined)\n",
      "     |  \n",
      "     |  ----------------------------------------------------------------------\n",
      "     |  Data and other attributes inherited from BaseHandler:\n",
      "     |  \n",
      "     |  handler_order = 500\n",
      "    \n",
      "    class DataHandler(BaseHandler)\n",
      "     |  Method resolution order:\n",
      "     |      DataHandler\n",
      "     |      BaseHandler\n",
      "     |      builtins.object\n",
      "     |  \n",
      "     |  Methods defined here:\n",
      "     |  \n",
      "     |  data_open(self, req)\n",
      "     |  \n",
      "     |  ----------------------------------------------------------------------\n",
      "     |  Methods inherited from BaseHandler:\n",
      "     |  \n",
      "     |  __lt__(self, other)\n",
      "     |      Return self<value.\n",
      "     |  \n",
      "     |  add_parent(self, parent)\n",
      "     |  \n",
      "     |  close(self)\n",
      "     |  \n",
      "     |  ----------------------------------------------------------------------\n",
      "     |  Data descriptors inherited from BaseHandler:\n",
      "     |  \n",
      "     |  __dict__\n",
      "     |      dictionary for instance variables (if defined)\n",
      "     |  \n",
      "     |  __weakref__\n",
      "     |      list of weak references to the object (if defined)\n",
      "     |  \n",
      "     |  ----------------------------------------------------------------------\n",
      "     |  Data and other attributes inherited from BaseHandler:\n",
      "     |  \n",
      "     |  handler_order = 500\n",
      "    \n",
      "    class FTPHandler(BaseHandler)\n",
      "     |  Method resolution order:\n",
      "     |      FTPHandler\n",
      "     |      BaseHandler\n",
      "     |      builtins.object\n",
      "     |  \n",
      "     |  Methods defined here:\n",
      "     |  \n",
      "     |  connect_ftp(self, user, passwd, host, port, dirs, timeout)\n",
      "     |  \n",
      "     |  ftp_open(self, req)\n",
      "     |  \n",
      "     |  ----------------------------------------------------------------------\n",
      "     |  Methods inherited from BaseHandler:\n",
      "     |  \n",
      "     |  __lt__(self, other)\n",
      "     |      Return self<value.\n",
      "     |  \n",
      "     |  add_parent(self, parent)\n",
      "     |  \n",
      "     |  close(self)\n",
      "     |  \n",
      "     |  ----------------------------------------------------------------------\n",
      "     |  Data descriptors inherited from BaseHandler:\n",
      "     |  \n",
      "     |  __dict__\n",
      "     |      dictionary for instance variables (if defined)\n",
      "     |  \n",
      "     |  __weakref__\n",
      "     |      list of weak references to the object (if defined)\n",
      "     |  \n",
      "     |  ----------------------------------------------------------------------\n",
      "     |  Data and other attributes inherited from BaseHandler:\n",
      "     |  \n",
      "     |  handler_order = 500\n",
      "    \n",
      "    class FancyURLopener(URLopener)\n",
      "     |  FancyURLopener(*args, **kwargs)\n",
      "     |  \n",
      "     |  Derived class with handlers for errors we can handle (perhaps).\n",
      "     |  \n",
      "     |  Method resolution order:\n",
      "     |      FancyURLopener\n",
      "     |      URLopener\n",
      "     |      builtins.object\n",
      "     |  \n",
      "     |  Methods defined here:\n",
      "     |  \n",
      "     |  __init__(self, *args, **kwargs)\n",
      "     |      Initialize self.  See help(type(self)) for accurate signature.\n",
      "     |  \n",
      "     |  get_user_passwd(self, host, realm, clear_cache=0)\n",
      "     |  \n",
      "     |  http_error_301(self, url, fp, errcode, errmsg, headers, data=None)\n",
      "     |      Error 301 -- also relocated (permanently).\n",
      "     |  \n",
      "     |  http_error_302(self, url, fp, errcode, errmsg, headers, data=None)\n",
      "     |      Error 302 -- relocated (temporarily).\n",
      "     |  \n",
      "     |  http_error_303(self, url, fp, errcode, errmsg, headers, data=None)\n",
      "     |      Error 303 -- also relocated (essentially identical to 302).\n",
      "     |  \n",
      "     |  http_error_307(self, url, fp, errcode, errmsg, headers, data=None)\n",
      "     |      Error 307 -- relocated, but turn POST into error.\n",
      "     |  \n",
      "     |  http_error_401(self, url, fp, errcode, errmsg, headers, data=None, retry=False)\n",
      "     |      Error 401 -- authentication required.\n",
      "     |      This function supports Basic authentication only.\n",
      "     |  \n",
      "     |  http_error_407(self, url, fp, errcode, errmsg, headers, data=None, retry=False)\n",
      "     |      Error 407 -- proxy authentication required.\n",
      "     |      This function supports Basic authentication only.\n",
      "     |  \n",
      "     |  http_error_default(self, url, fp, errcode, errmsg, headers)\n",
      "     |      Default error handling -- don't raise an exception.\n",
      "     |  \n",
      "     |  prompt_user_passwd(self, host, realm)\n",
      "     |      Override this in a GUI environment!\n",
      "     |  \n",
      "     |  redirect_internal(self, url, fp, errcode, errmsg, headers, data)\n",
      "     |  \n",
      "     |  retry_http_basic_auth(self, url, realm, data=None)\n",
      "     |  \n",
      "     |  retry_https_basic_auth(self, url, realm, data=None)\n",
      "     |  \n",
      "     |  retry_proxy_http_basic_auth(self, url, realm, data=None)\n",
      "     |  \n",
      "     |  retry_proxy_https_basic_auth(self, url, realm, data=None)\n",
      "     |  \n",
      "     |  ----------------------------------------------------------------------\n",
      "     |  Methods inherited from URLopener:\n",
      "     |  \n",
      "     |  __del__(self)\n",
      "     |  \n",
      "     |  addheader(self, *args)\n",
      "     |      Add a header to be used by the HTTP interface only\n",
      "     |      e.g. u.addheader('Accept', 'sound/basic')\n",
      "     |  \n",
      "     |  cleanup(self)\n",
      "     |  \n",
      "     |  close(self)\n",
      "     |  \n",
      "     |  http_error(self, url, fp, errcode, errmsg, headers, data=None)\n",
      "     |      Handle http errors.\n",
      "     |      \n",
      "     |      Derived class can override this, or provide specific handlers\n",
      "     |      named http_error_DDD where DDD is the 3-digit error code.\n",
      "     |  \n",
      "     |  open(self, fullurl, data=None)\n",
      "     |      Use URLopener().open(file) instead of open(file, 'r').\n",
      "     |  \n",
      "     |  open_data(self, url, data=None)\n",
      "     |      Use \"data\" URL.\n",
      "     |  \n",
      "     |  open_file(self, url)\n",
      "     |      Use local file or FTP depending on form of URL.\n",
      "     |  \n",
      "     |  open_ftp(self, url)\n",
      "     |      Use FTP protocol.\n",
      "     |  \n",
      "     |  open_http(self, url, data=None)\n",
      "     |      Use HTTP protocol.\n",
      "     |  \n",
      "     |  open_https(self, url, data=None)\n",
      "     |      Use HTTPS protocol.\n",
      "     |  \n",
      "     |  open_local_file(self, url)\n",
      "     |      Use local file.\n",
      "     |  \n",
      "     |  open_unknown(self, fullurl, data=None)\n",
      "     |      Overridable interface to open unknown URL type.\n",
      "     |  \n",
      "     |  open_unknown_proxy(self, proxy, fullurl, data=None)\n",
      "     |      Overridable interface to open unknown URL type.\n",
      "     |  \n",
      "     |  retrieve(self, url, filename=None, reporthook=None, data=None)\n",
      "     |      retrieve(url) returns (filename, headers) for a local object\n",
      "     |      or (tempfilename, headers) for a remote object.\n",
      "     |  \n",
      "     |  ----------------------------------------------------------------------\n",
      "     |  Data descriptors inherited from URLopener:\n",
      "     |  \n",
      "     |  __dict__\n",
      "     |      dictionary for instance variables (if defined)\n",
      "     |  \n",
      "     |  __weakref__\n",
      "     |      list of weak references to the object (if defined)\n",
      "     |  \n",
      "     |  ----------------------------------------------------------------------\n",
      "     |  Data and other attributes inherited from URLopener:\n",
      "     |  \n",
      "     |  version = 'Python-urllib/3.9'\n",
      "    \n",
      "    class FileHandler(BaseHandler)\n",
      "     |  Method resolution order:\n",
      "     |      FileHandler\n",
      "     |      BaseHandler\n",
      "     |      builtins.object\n",
      "     |  \n",
      "     |  Methods defined here:\n",
      "     |  \n",
      "     |  file_open(self, req)\n",
      "     |      # Use local file or FTP depending on form of URL\n",
      "     |  \n",
      "     |  get_names(self)\n",
      "     |  \n",
      "     |  open_local_file(self, req)\n",
      "     |      # not entirely sure what the rules are here\n",
      "     |  \n",
      "     |  ----------------------------------------------------------------------\n",
      "     |  Data and other attributes defined here:\n",
      "     |  \n",
      "     |  names = None\n",
      "     |  \n",
      "     |  ----------------------------------------------------------------------\n",
      "     |  Methods inherited from BaseHandler:\n",
      "     |  \n",
      "     |  __lt__(self, other)\n",
      "     |      Return self<value.\n",
      "     |  \n",
      "     |  add_parent(self, parent)\n",
      "     |  \n",
      "     |  close(self)\n",
      "     |  \n",
      "     |  ----------------------------------------------------------------------\n",
      "     |  Data descriptors inherited from BaseHandler:\n",
      "     |  \n",
      "     |  __dict__\n",
      "     |      dictionary for instance variables (if defined)\n",
      "     |  \n",
      "     |  __weakref__\n",
      "     |      list of weak references to the object (if defined)\n",
      "     |  \n",
      "     |  ----------------------------------------------------------------------\n",
      "     |  Data and other attributes inherited from BaseHandler:\n",
      "     |  \n",
      "     |  handler_order = 500\n",
      "    \n",
      "    class HTTPBasicAuthHandler(AbstractBasicAuthHandler, BaseHandler)\n",
      "     |  HTTPBasicAuthHandler(password_mgr=None)\n",
      "     |  \n",
      "     |  Method resolution order:\n",
      "     |      HTTPBasicAuthHandler\n",
      "     |      AbstractBasicAuthHandler\n",
      "     |      BaseHandler\n",
      "     |      builtins.object\n",
      "     |  \n",
      "     |  Methods defined here:\n",
      "     |  \n",
      "     |  http_error_401(self, req, fp, code, msg, headers)\n",
      "     |  \n",
      "     |  ----------------------------------------------------------------------\n",
      "     |  Data and other attributes defined here:\n",
      "     |  \n",
      "     |  auth_header = 'Authorization'\n",
      "     |  \n",
      "     |  ----------------------------------------------------------------------\n",
      "     |  Methods inherited from AbstractBasicAuthHandler:\n",
      "     |  \n",
      "     |  __init__(self, password_mgr=None)\n",
      "     |      Initialize self.  See help(type(self)) for accurate signature.\n",
      "     |  \n",
      "     |  http_error_auth_reqed(self, authreq, host, req, headers)\n",
      "     |  \n",
      "     |  http_request(self, req)\n",
      "     |  \n",
      "     |  http_response(self, req, response)\n",
      "     |  \n",
      "     |  https_request = http_request(self, req)\n",
      "     |  \n",
      "     |  https_response = http_response(self, req, response)\n",
      "     |  \n",
      "     |  retry_http_basic_auth(self, host, req, realm)\n",
      "     |  \n",
      "     |  ----------------------------------------------------------------------\n",
      "     |  Data descriptors inherited from AbstractBasicAuthHandler:\n",
      "     |  \n",
      "     |  __dict__\n",
      "     |      dictionary for instance variables (if defined)\n",
      "     |  \n",
      "     |  __weakref__\n",
      "     |      list of weak references to the object (if defined)\n",
      "     |  \n",
      "     |  ----------------------------------------------------------------------\n",
      "     |  Data and other attributes inherited from AbstractBasicAuthHandler:\n",
      "     |  \n",
      "     |  rx = re.compile('(?:^|,)[ \\t]*([^ \\t,]+)[ \\t]+realm=([\"\\']?)([^\"\\']*)\\...\n",
      "     |  \n",
      "     |  ----------------------------------------------------------------------\n",
      "     |  Methods inherited from BaseHandler:\n",
      "     |  \n",
      "     |  __lt__(self, other)\n",
      "     |      Return self<value.\n",
      "     |  \n",
      "     |  add_parent(self, parent)\n",
      "     |  \n",
      "     |  close(self)\n",
      "     |  \n",
      "     |  ----------------------------------------------------------------------\n",
      "     |  Data and other attributes inherited from BaseHandler:\n",
      "     |  \n",
      "     |  handler_order = 500\n",
      "    \n",
      "    class HTTPCookieProcessor(BaseHandler)\n",
      "     |  HTTPCookieProcessor(cookiejar=None)\n",
      "     |  \n",
      "     |  Method resolution order:\n",
      "     |      HTTPCookieProcessor\n",
      "     |      BaseHandler\n",
      "     |      builtins.object\n",
      "     |  \n",
      "     |  Methods defined here:\n",
      "     |  \n",
      "     |  __init__(self, cookiejar=None)\n",
      "     |      Initialize self.  See help(type(self)) for accurate signature.\n",
      "     |  \n",
      "     |  http_request(self, request)\n",
      "     |  \n",
      "     |  http_response(self, request, response)\n",
      "     |  \n",
      "     |  https_request = http_request(self, request)\n",
      "     |  \n",
      "     |  https_response = http_response(self, request, response)\n",
      "     |  \n",
      "     |  ----------------------------------------------------------------------\n",
      "     |  Methods inherited from BaseHandler:\n",
      "     |  \n",
      "     |  __lt__(self, other)\n",
      "     |      Return self<value.\n",
      "     |  \n",
      "     |  add_parent(self, parent)\n",
      "     |  \n",
      "     |  close(self)\n",
      "     |  \n",
      "     |  ----------------------------------------------------------------------\n",
      "     |  Data descriptors inherited from BaseHandler:\n",
      "     |  \n",
      "     |  __dict__\n",
      "     |      dictionary for instance variables (if defined)\n",
      "     |  \n",
      "     |  __weakref__\n",
      "     |      list of weak references to the object (if defined)\n",
      "     |  \n",
      "     |  ----------------------------------------------------------------------\n",
      "     |  Data and other attributes inherited from BaseHandler:\n",
      "     |  \n",
      "     |  handler_order = 500\n",
      "    \n",
      "    class HTTPDefaultErrorHandler(BaseHandler)\n",
      "     |  Method resolution order:\n",
      "     |      HTTPDefaultErrorHandler\n",
      "     |      BaseHandler\n",
      "     |      builtins.object\n",
      "     |  \n",
      "     |  Methods defined here:\n",
      "     |  \n",
      "     |  http_error_default(self, req, fp, code, msg, hdrs)\n",
      "     |  \n",
      "     |  ----------------------------------------------------------------------\n",
      "     |  Methods inherited from BaseHandler:\n",
      "     |  \n",
      "     |  __lt__(self, other)\n",
      "     |      Return self<value.\n",
      "     |  \n",
      "     |  add_parent(self, parent)\n",
      "     |  \n",
      "     |  close(self)\n",
      "     |  \n",
      "     |  ----------------------------------------------------------------------\n",
      "     |  Data descriptors inherited from BaseHandler:\n",
      "     |  \n",
      "     |  __dict__\n",
      "     |      dictionary for instance variables (if defined)\n",
      "     |  \n",
      "     |  __weakref__\n",
      "     |      list of weak references to the object (if defined)\n",
      "     |  \n",
      "     |  ----------------------------------------------------------------------\n",
      "     |  Data and other attributes inherited from BaseHandler:\n",
      "     |  \n",
      "     |  handler_order = 500\n",
      "    \n",
      "    class HTTPDigestAuthHandler(BaseHandler, AbstractDigestAuthHandler)\n",
      "     |  HTTPDigestAuthHandler(passwd=None)\n",
      "     |  \n",
      "     |  An authentication protocol defined by RFC 2069\n",
      "     |  \n",
      "     |  Digest authentication improves on basic authentication because it\n",
      "     |  does not transmit passwords in the clear.\n",
      "     |  \n",
      "     |  Method resolution order:\n",
      "     |      HTTPDigestAuthHandler\n",
      "     |      BaseHandler\n",
      "     |      AbstractDigestAuthHandler\n",
      "     |      builtins.object\n",
      "     |  \n",
      "     |  Methods defined here:\n",
      "     |  \n",
      "     |  http_error_401(self, req, fp, code, msg, headers)\n",
      "     |  \n",
      "     |  ----------------------------------------------------------------------\n",
      "     |  Data and other attributes defined here:\n",
      "     |  \n",
      "     |  auth_header = 'Authorization'\n",
      "     |  \n",
      "     |  handler_order = 490\n",
      "     |  \n",
      "     |  ----------------------------------------------------------------------\n",
      "     |  Methods inherited from BaseHandler:\n",
      "     |  \n",
      "     |  __lt__(self, other)\n",
      "     |      Return self<value.\n",
      "     |  \n",
      "     |  add_parent(self, parent)\n",
      "     |  \n",
      "     |  close(self)\n",
      "     |  \n",
      "     |  ----------------------------------------------------------------------\n",
      "     |  Data descriptors inherited from BaseHandler:\n",
      "     |  \n",
      "     |  __dict__\n",
      "     |      dictionary for instance variables (if defined)\n",
      "     |  \n",
      "     |  __weakref__\n",
      "     |      list of weak references to the object (if defined)\n",
      "     |  \n",
      "     |  ----------------------------------------------------------------------\n",
      "     |  Methods inherited from AbstractDigestAuthHandler:\n",
      "     |  \n",
      "     |  __init__(self, passwd=None)\n",
      "     |      Initialize self.  See help(type(self)) for accurate signature.\n",
      "     |  \n",
      "     |  get_algorithm_impls(self, algorithm)\n",
      "     |  \n",
      "     |  get_authorization(self, req, chal)\n",
      "     |  \n",
      "     |  get_cnonce(self, nonce)\n",
      "     |  \n",
      "     |  get_entity_digest(self, data, chal)\n",
      "     |  \n",
      "     |  http_error_auth_reqed(self, auth_header, host, req, headers)\n",
      "     |  \n",
      "     |  reset_retry_count(self)\n",
      "     |  \n",
      "     |  retry_http_digest_auth(self, req, auth)\n",
      "    \n",
      "    class HTTPErrorProcessor(BaseHandler)\n",
      "     |  Process HTTP error responses.\n",
      "     |  \n",
      "     |  Method resolution order:\n",
      "     |      HTTPErrorProcessor\n",
      "     |      BaseHandler\n",
      "     |      builtins.object\n",
      "     |  \n",
      "     |  Methods defined here:\n",
      "     |  \n",
      "     |  http_response(self, request, response)\n",
      "     |  \n",
      "     |  https_response = http_response(self, request, response)\n",
      "     |  \n",
      "     |  ----------------------------------------------------------------------\n",
      "     |  Data and other attributes defined here:\n",
      "     |  \n",
      "     |  handler_order = 1000\n",
      "     |  \n",
      "     |  ----------------------------------------------------------------------\n",
      "     |  Methods inherited from BaseHandler:\n",
      "     |  \n",
      "     |  __lt__(self, other)\n",
      "     |      Return self<value.\n",
      "     |  \n",
      "     |  add_parent(self, parent)\n",
      "     |  \n",
      "     |  close(self)\n",
      "     |  \n",
      "     |  ----------------------------------------------------------------------\n",
      "     |  Data descriptors inherited from BaseHandler:\n",
      "     |  \n",
      "     |  __dict__\n",
      "     |      dictionary for instance variables (if defined)\n",
      "     |  \n",
      "     |  __weakref__\n",
      "     |      list of weak references to the object (if defined)\n",
      "    \n",
      "    class HTTPHandler(AbstractHTTPHandler)\n",
      "     |  HTTPHandler(debuglevel=0)\n",
      "     |  \n",
      "     |  Method resolution order:\n",
      "     |      HTTPHandler\n",
      "     |      AbstractHTTPHandler\n",
      "     |      BaseHandler\n",
      "     |      builtins.object\n",
      "     |  \n",
      "     |  Methods defined here:\n",
      "     |  \n",
      "     |  http_open(self, req)\n",
      "     |  \n",
      "     |  http_request = do_request_(self, request)\n",
      "     |  \n",
      "     |  ----------------------------------------------------------------------\n",
      "     |  Methods inherited from AbstractHTTPHandler:\n",
      "     |  \n",
      "     |  __init__(self, debuglevel=0)\n",
      "     |      Initialize self.  See help(type(self)) for accurate signature.\n",
      "     |  \n",
      "     |  do_open(self, http_class, req, **http_conn_args)\n",
      "     |      Return an HTTPResponse object for the request, using http_class.\n",
      "     |      \n",
      "     |      http_class must implement the HTTPConnection API from http.client.\n",
      "     |  \n",
      "     |  do_request_(self, request)\n",
      "     |  \n",
      "     |  set_http_debuglevel(self, level)\n",
      "     |  \n",
      "     |  ----------------------------------------------------------------------\n",
      "     |  Methods inherited from BaseHandler:\n",
      "     |  \n",
      "     |  __lt__(self, other)\n",
      "     |      Return self<value.\n",
      "     |  \n",
      "     |  add_parent(self, parent)\n",
      "     |  \n",
      "     |  close(self)\n",
      "     |  \n",
      "     |  ----------------------------------------------------------------------\n",
      "     |  Data descriptors inherited from BaseHandler:\n",
      "     |  \n",
      "     |  __dict__\n",
      "     |      dictionary for instance variables (if defined)\n",
      "     |  \n",
      "     |  __weakref__\n",
      "     |      list of weak references to the object (if defined)\n",
      "     |  \n",
      "     |  ----------------------------------------------------------------------\n",
      "     |  Data and other attributes inherited from BaseHandler:\n",
      "     |  \n",
      "     |  handler_order = 500\n",
      "    \n",
      "    class HTTPPasswordMgr(builtins.object)\n",
      "     |  Methods defined here:\n",
      "     |  \n",
      "     |  __init__(self)\n",
      "     |      Initialize self.  See help(type(self)) for accurate signature.\n",
      "     |  \n",
      "     |  add_password(self, realm, uri, user, passwd)\n",
      "     |  \n",
      "     |  find_user_password(self, realm, authuri)\n",
      "     |  \n",
      "     |  is_suburi(self, base, test)\n",
      "     |      Check if test is below base in a URI tree\n",
      "     |      \n",
      "     |      Both args must be URIs in reduced form.\n",
      "     |  \n",
      "     |  reduce_uri(self, uri, default_port=True)\n",
      "     |      Accept authority or URI and extract only the authority and path.\n",
      "     |  \n",
      "     |  ----------------------------------------------------------------------\n",
      "     |  Data descriptors defined here:\n",
      "     |  \n",
      "     |  __dict__\n",
      "     |      dictionary for instance variables (if defined)\n",
      "     |  \n",
      "     |  __weakref__\n",
      "     |      list of weak references to the object (if defined)\n",
      "    \n",
      "    class HTTPPasswordMgrWithDefaultRealm(HTTPPasswordMgr)\n",
      "     |  Method resolution order:\n",
      "     |      HTTPPasswordMgrWithDefaultRealm\n",
      "     |      HTTPPasswordMgr\n",
      "     |      builtins.object\n",
      "     |  \n",
      "     |  Methods defined here:\n",
      "     |  \n",
      "     |  find_user_password(self, realm, authuri)\n",
      "     |  \n",
      "     |  ----------------------------------------------------------------------\n",
      "     |  Methods inherited from HTTPPasswordMgr:\n",
      "     |  \n",
      "     |  __init__(self)\n",
      "     |      Initialize self.  See help(type(self)) for accurate signature.\n",
      "     |  \n",
      "     |  add_password(self, realm, uri, user, passwd)\n",
      "     |  \n",
      "     |  is_suburi(self, base, test)\n",
      "     |      Check if test is below base in a URI tree\n",
      "     |      \n",
      "     |      Both args must be URIs in reduced form.\n",
      "     |  \n",
      "     |  reduce_uri(self, uri, default_port=True)\n",
      "     |      Accept authority or URI and extract only the authority and path.\n",
      "     |  \n",
      "     |  ----------------------------------------------------------------------\n",
      "     |  Data descriptors inherited from HTTPPasswordMgr:\n",
      "     |  \n",
      "     |  __dict__\n",
      "     |      dictionary for instance variables (if defined)\n",
      "     |  \n",
      "     |  __weakref__\n",
      "     |      list of weak references to the object (if defined)\n",
      "    \n",
      "    class HTTPPasswordMgrWithPriorAuth(HTTPPasswordMgrWithDefaultRealm)\n",
      "     |  HTTPPasswordMgrWithPriorAuth(*args, **kwargs)\n",
      "     |  \n",
      "     |  Method resolution order:\n",
      "     |      HTTPPasswordMgrWithPriorAuth\n",
      "     |      HTTPPasswordMgrWithDefaultRealm\n",
      "     |      HTTPPasswordMgr\n",
      "     |      builtins.object\n",
      "     |  \n",
      "     |  Methods defined here:\n",
      "     |  \n",
      "     |  __init__(self, *args, **kwargs)\n",
      "     |      Initialize self.  See help(type(self)) for accurate signature.\n",
      "     |  \n",
      "     |  add_password(self, realm, uri, user, passwd, is_authenticated=False)\n",
      "     |  \n",
      "     |  is_authenticated(self, authuri)\n",
      "     |  \n",
      "     |  update_authenticated(self, uri, is_authenticated=False)\n",
      "     |  \n",
      "     |  ----------------------------------------------------------------------\n",
      "     |  Methods inherited from HTTPPasswordMgrWithDefaultRealm:\n",
      "     |  \n",
      "     |  find_user_password(self, realm, authuri)\n",
      "     |  \n",
      "     |  ----------------------------------------------------------------------\n",
      "     |  Methods inherited from HTTPPasswordMgr:\n",
      "     |  \n",
      "     |  is_suburi(self, base, test)\n",
      "     |      Check if test is below base in a URI tree\n",
      "     |      \n",
      "     |      Both args must be URIs in reduced form.\n",
      "     |  \n",
      "     |  reduce_uri(self, uri, default_port=True)\n",
      "     |      Accept authority or URI and extract only the authority and path.\n",
      "     |  \n",
      "     |  ----------------------------------------------------------------------\n",
      "     |  Data descriptors inherited from HTTPPasswordMgr:\n",
      "     |  \n",
      "     |  __dict__\n",
      "     |      dictionary for instance variables (if defined)\n",
      "     |  \n",
      "     |  __weakref__\n",
      "     |      list of weak references to the object (if defined)\n",
      "    \n",
      "    class HTTPRedirectHandler(BaseHandler)\n",
      "     |  Method resolution order:\n",
      "     |      HTTPRedirectHandler\n",
      "     |      BaseHandler\n",
      "     |      builtins.object\n",
      "     |  \n",
      "     |  Methods defined here:\n",
      "     |  \n",
      "     |  http_error_301 = http_error_302(self, req, fp, code, msg, headers)\n",
      "     |  \n",
      "     |  http_error_302(self, req, fp, code, msg, headers)\n",
      "     |      # Implementation note: To avoid the server sending us into an\n",
      "     |      # infinite loop, the request object needs to track what URLs we\n",
      "     |      # have already seen.  Do this by adding a handler-specific\n",
      "     |      # attribute to the Request object.\n",
      "     |  \n",
      "     |  http_error_303 = http_error_302(self, req, fp, code, msg, headers)\n",
      "     |  \n",
      "     |  http_error_307 = http_error_302(self, req, fp, code, msg, headers)\n",
      "     |  \n",
      "     |  redirect_request(self, req, fp, code, msg, headers, newurl)\n",
      "     |      Return a Request or None in response to a redirect.\n",
      "     |      \n",
      "     |      This is called by the http_error_30x methods when a\n",
      "     |      redirection response is received.  If a redirection should\n",
      "     |      take place, return a new Request to allow http_error_30x to\n",
      "     |      perform the redirect.  Otherwise, raise HTTPError if no-one\n",
      "     |      else should try to handle this url.  Return None if you can't\n",
      "     |      but another Handler might.\n",
      "     |  \n",
      "     |  ----------------------------------------------------------------------\n",
      "     |  Data and other attributes defined here:\n",
      "     |  \n",
      "     |  inf_msg = 'The HTTP server returned a redirect error that w...n infini...\n",
      "     |  \n",
      "     |  max_redirections = 10\n",
      "     |  \n",
      "     |  max_repeats = 4\n",
      "     |  \n",
      "     |  ----------------------------------------------------------------------\n",
      "     |  Methods inherited from BaseHandler:\n",
      "     |  \n",
      "     |  __lt__(self, other)\n",
      "     |      Return self<value.\n",
      "     |  \n",
      "     |  add_parent(self, parent)\n",
      "     |  \n",
      "     |  close(self)\n",
      "     |  \n",
      "     |  ----------------------------------------------------------------------\n",
      "     |  Data descriptors inherited from BaseHandler:\n",
      "     |  \n",
      "     |  __dict__\n",
      "     |      dictionary for instance variables (if defined)\n",
      "     |  \n",
      "     |  __weakref__\n",
      "     |      list of weak references to the object (if defined)\n",
      "     |  \n",
      "     |  ----------------------------------------------------------------------\n",
      "     |  Data and other attributes inherited from BaseHandler:\n",
      "     |  \n",
      "     |  handler_order = 500\n",
      "    \n",
      "    class HTTPSHandler(AbstractHTTPHandler)\n",
      "     |  HTTPSHandler(debuglevel=0, context=None, check_hostname=None)\n",
      "     |  \n",
      "     |  Method resolution order:\n",
      "     |      HTTPSHandler\n",
      "     |      AbstractHTTPHandler\n",
      "     |      BaseHandler\n",
      "     |      builtins.object\n",
      "     |  \n",
      "     |  Methods defined here:\n",
      "     |  \n",
      "     |  __init__(self, debuglevel=0, context=None, check_hostname=None)\n",
      "     |      Initialize self.  See help(type(self)) for accurate signature.\n",
      "     |  \n",
      "     |  https_open(self, req)\n",
      "     |  \n",
      "     |  https_request = do_request_(self, request)\n",
      "     |  \n",
      "     |  ----------------------------------------------------------------------\n",
      "     |  Methods inherited from AbstractHTTPHandler:\n",
      "     |  \n",
      "     |  do_open(self, http_class, req, **http_conn_args)\n",
      "     |      Return an HTTPResponse object for the request, using http_class.\n",
      "     |      \n",
      "     |      http_class must implement the HTTPConnection API from http.client.\n",
      "     |  \n",
      "     |  do_request_(self, request)\n",
      "     |  \n",
      "     |  set_http_debuglevel(self, level)\n",
      "     |  \n",
      "     |  ----------------------------------------------------------------------\n",
      "     |  Methods inherited from BaseHandler:\n",
      "     |  \n",
      "     |  __lt__(self, other)\n",
      "     |      Return self<value.\n",
      "     |  \n",
      "     |  add_parent(self, parent)\n",
      "     |  \n",
      "     |  close(self)\n",
      "     |  \n",
      "     |  ----------------------------------------------------------------------\n",
      "     |  Data descriptors inherited from BaseHandler:\n",
      "     |  \n",
      "     |  __dict__\n",
      "     |      dictionary for instance variables (if defined)\n",
      "     |  \n",
      "     |  __weakref__\n",
      "     |      list of weak references to the object (if defined)\n",
      "     |  \n",
      "     |  ----------------------------------------------------------------------\n",
      "     |  Data and other attributes inherited from BaseHandler:\n",
      "     |  \n",
      "     |  handler_order = 500\n",
      "    \n",
      "    class OpenerDirector(builtins.object)\n",
      "     |  Methods defined here:\n",
      "     |  \n",
      "     |  __init__(self)\n",
      "     |      Initialize self.  See help(type(self)) for accurate signature.\n",
      "     |  \n",
      "     |  add_handler(self, handler)\n",
      "     |  \n",
      "     |  close(self)\n",
      "     |  \n",
      "     |  error(self, proto, *args)\n",
      "     |  \n",
      "     |  open(self, fullurl, data=None, timeout=<object object at 0x7ff52a563640>)\n",
      "     |  \n",
      "     |  ----------------------------------------------------------------------\n",
      "     |  Data descriptors defined here:\n",
      "     |  \n",
      "     |  __dict__\n",
      "     |      dictionary for instance variables (if defined)\n",
      "     |  \n",
      "     |  __weakref__\n",
      "     |      list of weak references to the object (if defined)\n",
      "    \n",
      "    class ProxyBasicAuthHandler(AbstractBasicAuthHandler, BaseHandler)\n",
      "     |  ProxyBasicAuthHandler(password_mgr=None)\n",
      "     |  \n",
      "     |  Method resolution order:\n",
      "     |      ProxyBasicAuthHandler\n",
      "     |      AbstractBasicAuthHandler\n",
      "     |      BaseHandler\n",
      "     |      builtins.object\n",
      "     |  \n",
      "     |  Methods defined here:\n",
      "     |  \n",
      "     |  http_error_407(self, req, fp, code, msg, headers)\n",
      "     |  \n",
      "     |  ----------------------------------------------------------------------\n",
      "     |  Data and other attributes defined here:\n",
      "     |  \n",
      "     |  auth_header = 'Proxy-authorization'\n",
      "     |  \n",
      "     |  ----------------------------------------------------------------------\n",
      "     |  Methods inherited from AbstractBasicAuthHandler:\n",
      "     |  \n",
      "     |  __init__(self, password_mgr=None)\n",
      "     |      Initialize self.  See help(type(self)) for accurate signature.\n",
      "     |  \n",
      "     |  http_error_auth_reqed(self, authreq, host, req, headers)\n",
      "     |  \n",
      "     |  http_request(self, req)\n",
      "     |  \n",
      "     |  http_response(self, req, response)\n",
      "     |  \n",
      "     |  https_request = http_request(self, req)\n",
      "     |  \n",
      "     |  https_response = http_response(self, req, response)\n",
      "     |  \n",
      "     |  retry_http_basic_auth(self, host, req, realm)\n",
      "     |  \n",
      "     |  ----------------------------------------------------------------------\n",
      "     |  Data descriptors inherited from AbstractBasicAuthHandler:\n",
      "     |  \n",
      "     |  __dict__\n",
      "     |      dictionary for instance variables (if defined)\n",
      "     |  \n",
      "     |  __weakref__\n",
      "     |      list of weak references to the object (if defined)\n",
      "     |  \n",
      "     |  ----------------------------------------------------------------------\n",
      "     |  Data and other attributes inherited from AbstractBasicAuthHandler:\n",
      "     |  \n",
      "     |  rx = re.compile('(?:^|,)[ \\t]*([^ \\t,]+)[ \\t]+realm=([\"\\']?)([^\"\\']*)\\...\n",
      "     |  \n",
      "     |  ----------------------------------------------------------------------\n",
      "     |  Methods inherited from BaseHandler:\n",
      "     |  \n",
      "     |  __lt__(self, other)\n",
      "     |      Return self<value.\n",
      "     |  \n",
      "     |  add_parent(self, parent)\n",
      "     |  \n",
      "     |  close(self)\n",
      "     |  \n",
      "     |  ----------------------------------------------------------------------\n",
      "     |  Data and other attributes inherited from BaseHandler:\n",
      "     |  \n",
      "     |  handler_order = 500\n",
      "    \n",
      "    class ProxyDigestAuthHandler(BaseHandler, AbstractDigestAuthHandler)\n",
      "     |  ProxyDigestAuthHandler(passwd=None)\n",
      "     |  \n",
      "     |  Method resolution order:\n",
      "     |      ProxyDigestAuthHandler\n",
      "     |      BaseHandler\n",
      "     |      AbstractDigestAuthHandler\n",
      "     |      builtins.object\n",
      "     |  \n",
      "     |  Methods defined here:\n",
      "     |  \n",
      "     |  http_error_407(self, req, fp, code, msg, headers)\n",
      "     |  \n",
      "     |  ----------------------------------------------------------------------\n",
      "     |  Data and other attributes defined here:\n",
      "     |  \n",
      "     |  auth_header = 'Proxy-Authorization'\n",
      "     |  \n",
      "     |  handler_order = 490\n",
      "     |  \n",
      "     |  ----------------------------------------------------------------------\n",
      "     |  Methods inherited from BaseHandler:\n",
      "     |  \n",
      "     |  __lt__(self, other)\n",
      "     |      Return self<value.\n",
      "     |  \n",
      "     |  add_parent(self, parent)\n",
      "     |  \n",
      "     |  close(self)\n",
      "     |  \n",
      "     |  ----------------------------------------------------------------------\n",
      "     |  Data descriptors inherited from BaseHandler:\n",
      "     |  \n",
      "     |  __dict__\n",
      "     |      dictionary for instance variables (if defined)\n",
      "     |  \n",
      "     |  __weakref__\n",
      "     |      list of weak references to the object (if defined)\n",
      "     |  \n",
      "     |  ----------------------------------------------------------------------\n",
      "     |  Methods inherited from AbstractDigestAuthHandler:\n",
      "     |  \n",
      "     |  __init__(self, passwd=None)\n",
      "     |      Initialize self.  See help(type(self)) for accurate signature.\n",
      "     |  \n",
      "     |  get_algorithm_impls(self, algorithm)\n",
      "     |  \n",
      "     |  get_authorization(self, req, chal)\n",
      "     |  \n",
      "     |  get_cnonce(self, nonce)\n",
      "     |  \n",
      "     |  get_entity_digest(self, data, chal)\n",
      "     |  \n",
      "     |  http_error_auth_reqed(self, auth_header, host, req, headers)\n",
      "     |  \n",
      "     |  reset_retry_count(self)\n",
      "     |  \n",
      "     |  retry_http_digest_auth(self, req, auth)\n",
      "    \n",
      "    class ProxyHandler(BaseHandler)\n",
      "     |  ProxyHandler(proxies=None)\n",
      "     |  \n",
      "     |  Method resolution order:\n",
      "     |      ProxyHandler\n",
      "     |      BaseHandler\n",
      "     |      builtins.object\n",
      "     |  \n",
      "     |  Methods defined here:\n",
      "     |  \n",
      "     |  __init__(self, proxies=None)\n",
      "     |      Initialize self.  See help(type(self)) for accurate signature.\n",
      "     |  \n",
      "     |  proxy_open(self, req, proxy, type)\n",
      "     |  \n",
      "     |  ----------------------------------------------------------------------\n",
      "     |  Data and other attributes defined here:\n",
      "     |  \n",
      "     |  handler_order = 100\n",
      "     |  \n",
      "     |  ----------------------------------------------------------------------\n",
      "     |  Methods inherited from BaseHandler:\n",
      "     |  \n",
      "     |  __lt__(self, other)\n",
      "     |      Return self<value.\n",
      "     |  \n",
      "     |  add_parent(self, parent)\n",
      "     |  \n",
      "     |  close(self)\n",
      "     |  \n",
      "     |  ----------------------------------------------------------------------\n",
      "     |  Data descriptors inherited from BaseHandler:\n",
      "     |  \n",
      "     |  __dict__\n",
      "     |      dictionary for instance variables (if defined)\n",
      "     |  \n",
      "     |  __weakref__\n",
      "     |      list of weak references to the object (if defined)\n",
      "    \n",
      "    class Request(builtins.object)\n",
      "     |  Request(url, data=None, headers={}, origin_req_host=None, unverifiable=False, method=None)\n",
      "     |  \n",
      "     |  Methods defined here:\n",
      "     |  \n",
      "     |  __init__(self, url, data=None, headers={}, origin_req_host=None, unverifiable=False, method=None)\n",
      "     |      Initialize self.  See help(type(self)) for accurate signature.\n",
      "     |  \n",
      "     |  add_header(self, key, val)\n",
      "     |  \n",
      "     |  add_unredirected_header(self, key, val)\n",
      "     |  \n",
      "     |  get_full_url(self)\n",
      "     |  \n",
      "     |  get_header(self, header_name, default=None)\n",
      "     |  \n",
      "     |  get_method(self)\n",
      "     |      Return a string indicating the HTTP request method.\n",
      "     |  \n",
      "     |  has_header(self, header_name)\n",
      "     |  \n",
      "     |  has_proxy(self)\n",
      "     |  \n",
      "     |  header_items(self)\n",
      "     |  \n",
      "     |  remove_header(self, header_name)\n",
      "     |  \n",
      "     |  set_proxy(self, host, type)\n",
      "     |  \n",
      "     |  ----------------------------------------------------------------------\n",
      "     |  Data descriptors defined here:\n",
      "     |  \n",
      "     |  __dict__\n",
      "     |      dictionary for instance variables (if defined)\n",
      "     |  \n",
      "     |  __weakref__\n",
      "     |      list of weak references to the object (if defined)\n",
      "     |  \n",
      "     |  data\n",
      "     |  \n",
      "     |  full_url\n",
      "    \n",
      "    class URLopener(builtins.object)\n",
      "     |  URLopener(proxies=None, **x509)\n",
      "     |  \n",
      "     |  Class to open URLs.\n",
      "     |  This is a class rather than just a subroutine because we may need\n",
      "     |  more than one set of global protocol-specific options.\n",
      "     |  Note -- this is a base class for those who don't want the\n",
      "     |  automatic handling of errors type 302 (relocated) and 401\n",
      "     |  (authorization needed).\n",
      "     |  \n",
      "     |  Methods defined here:\n",
      "     |  \n",
      "     |  __del__(self)\n",
      "     |  \n",
      "     |  __init__(self, proxies=None, **x509)\n",
      "     |      Initialize self.  See help(type(self)) for accurate signature.\n",
      "     |  \n",
      "     |  addheader(self, *args)\n",
      "     |      Add a header to be used by the HTTP interface only\n",
      "     |      e.g. u.addheader('Accept', 'sound/basic')\n",
      "     |  \n",
      "     |  cleanup(self)\n",
      "     |  \n",
      "     |  close(self)\n",
      "     |  \n",
      "     |  http_error(self, url, fp, errcode, errmsg, headers, data=None)\n",
      "     |      Handle http errors.\n",
      "     |      \n",
      "     |      Derived class can override this, or provide specific handlers\n",
      "     |      named http_error_DDD where DDD is the 3-digit error code.\n",
      "     |  \n",
      "     |  http_error_default(self, url, fp, errcode, errmsg, headers)\n",
      "     |      Default error handler: close the connection and raise OSError.\n",
      "     |  \n",
      "     |  open(self, fullurl, data=None)\n",
      "     |      Use URLopener().open(file) instead of open(file, 'r').\n",
      "     |  \n",
      "     |  open_data(self, url, data=None)\n",
      "     |      Use \"data\" URL.\n",
      "     |  \n",
      "     |  open_file(self, url)\n",
      "     |      Use local file or FTP depending on form of URL.\n",
      "     |  \n",
      "     |  open_ftp(self, url)\n",
      "     |      Use FTP protocol.\n",
      "     |  \n",
      "     |  open_http(self, url, data=None)\n",
      "     |      Use HTTP protocol.\n",
      "     |  \n",
      "     |  open_https(self, url, data=None)\n",
      "     |      Use HTTPS protocol.\n",
      "     |  \n",
      "     |  open_local_file(self, url)\n",
      "     |      Use local file.\n",
      "     |  \n",
      "     |  open_unknown(self, fullurl, data=None)\n",
      "     |      Overridable interface to open unknown URL type.\n",
      "     |  \n",
      "     |  open_unknown_proxy(self, proxy, fullurl, data=None)\n",
      "     |      Overridable interface to open unknown URL type.\n",
      "     |  \n",
      "     |  retrieve(self, url, filename=None, reporthook=None, data=None)\n",
      "     |      retrieve(url) returns (filename, headers) for a local object\n",
      "     |      or (tempfilename, headers) for a remote object.\n",
      "     |  \n",
      "     |  ----------------------------------------------------------------------\n",
      "     |  Data descriptors defined here:\n",
      "     |  \n",
      "     |  __dict__\n",
      "     |      dictionary for instance variables (if defined)\n",
      "     |  \n",
      "     |  __weakref__\n",
      "     |      list of weak references to the object (if defined)\n",
      "     |  \n",
      "     |  ----------------------------------------------------------------------\n",
      "     |  Data and other attributes defined here:\n",
      "     |  \n",
      "     |  version = 'Python-urllib/3.9'\n",
      "    \n",
      "    class UnknownHandler(BaseHandler)\n",
      "     |  Method resolution order:\n",
      "     |      UnknownHandler\n",
      "     |      BaseHandler\n",
      "     |      builtins.object\n",
      "     |  \n",
      "     |  Methods defined here:\n",
      "     |  \n",
      "     |  unknown_open(self, req)\n",
      "     |  \n",
      "     |  ----------------------------------------------------------------------\n",
      "     |  Methods inherited from BaseHandler:\n",
      "     |  \n",
      "     |  __lt__(self, other)\n",
      "     |      Return self<value.\n",
      "     |  \n",
      "     |  add_parent(self, parent)\n",
      "     |  \n",
      "     |  close(self)\n",
      "     |  \n",
      "     |  ----------------------------------------------------------------------\n",
      "     |  Data descriptors inherited from BaseHandler:\n",
      "     |  \n",
      "     |  __dict__\n",
      "     |      dictionary for instance variables (if defined)\n",
      "     |  \n",
      "     |  __weakref__\n",
      "     |      list of weak references to the object (if defined)\n",
      "     |  \n",
      "     |  ----------------------------------------------------------------------\n",
      "     |  Data and other attributes inherited from BaseHandler:\n",
      "     |  \n",
      "     |  handler_order = 500\n",
      "\n",
      "FUNCTIONS\n",
      "    build_opener(*handlers)\n",
      "        Create an opener object from a list of handlers.\n",
      "        \n",
      "        The opener will use several default handlers, including support\n",
      "        for HTTP, FTP and when applicable HTTPS.\n",
      "        \n",
      "        If any of the handlers passed as arguments are subclasses of the\n",
      "        default handlers, the default handlers will not be used.\n",
      "    \n",
      "    getproxies()\n",
      "    \n",
      "    install_opener(opener)\n",
      "    \n",
      "    pathname2url(pathname)\n",
      "        OS-specific conversion from a file system path to a relative URL\n",
      "        of the 'file' scheme; not recommended for general use.\n",
      "    \n",
      "    url2pathname(pathname)\n",
      "        OS-specific conversion from a relative URL of the 'file' scheme\n",
      "        to a file system path; not recommended for general use.\n",
      "    \n",
      "    urlcleanup()\n",
      "        Clean up temporary files from urlretrieve calls.\n",
      "    \n",
      "    urlopen(url, data=None, timeout=<object object at 0x7ff52a563640>, *, cafile=None, capath=None, cadefault=False, context=None)\n",
      "        Open the URL url, which can be either a string or a Request object.\n",
      "        \n",
      "        *data* must be an object specifying additional data to be sent to\n",
      "        the server, or None if no such data is needed.  See Request for\n",
      "        details.\n",
      "        \n",
      "        urllib.request module uses HTTP/1.1 and includes a \"Connection:close\"\n",
      "        header in its HTTP requests.\n",
      "        \n",
      "        The optional *timeout* parameter specifies a timeout in seconds for\n",
      "        blocking operations like the connection attempt (if not specified, the\n",
      "        global default timeout setting will be used). This only works for HTTP,\n",
      "        HTTPS and FTP connections.\n",
      "        \n",
      "        If *context* is specified, it must be a ssl.SSLContext instance describing\n",
      "        the various SSL options. See HTTPSConnection for more details.\n",
      "        \n",
      "        The optional *cafile* and *capath* parameters specify a set of trusted CA\n",
      "        certificates for HTTPS requests. cafile should point to a single file\n",
      "        containing a bundle of CA certificates, whereas capath should point to a\n",
      "        directory of hashed certificate files. More information can be found in\n",
      "        ssl.SSLContext.load_verify_locations().\n",
      "        \n",
      "        The *cadefault* parameter is ignored.\n",
      "        \n",
      "        \n",
      "        This function always returns an object which can work as a\n",
      "        context manager and has the properties url, headers, and status.\n",
      "        See urllib.response.addinfourl for more detail on these properties.\n",
      "        \n",
      "        For HTTP and HTTPS URLs, this function returns a http.client.HTTPResponse\n",
      "        object slightly modified. In addition to the three new methods above, the\n",
      "        msg attribute contains the same information as the reason attribute ---\n",
      "        the reason phrase returned by the server --- instead of the response\n",
      "        headers as it is specified in the documentation for HTTPResponse.\n",
      "        \n",
      "        For FTP, file, and data URLs and requests explicitly handled by legacy\n",
      "        URLopener and FancyURLopener classes, this function returns a\n",
      "        urllib.response.addinfourl object.\n",
      "        \n",
      "        Note that None may be returned if no handler handles the request (though\n",
      "        the default installed global OpenerDirector uses UnknownHandler to ensure\n",
      "        this never happens).\n",
      "        \n",
      "        In addition, if proxy settings are detected (for example, when a *_proxy\n",
      "        environment variable like http_proxy is set), ProxyHandler is default\n",
      "        installed and makes sure the requests are handled through the proxy.\n",
      "    \n",
      "    urlretrieve(url, filename=None, reporthook=None, data=None)\n",
      "        Retrieve a URL into a temporary location on disk.\n",
      "        \n",
      "        Requires a URL argument. If a filename is passed, it is used as\n",
      "        the temporary file location. The reporthook argument should be\n",
      "        a callable that accepts a block number, a read size, and the\n",
      "        total file size of the URL target. The data argument should be\n",
      "        valid URL encoded data.\n",
      "        \n",
      "        If a filename is passed and the URL points to a local resource,\n",
      "        the result is a copy from local file to new file.\n",
      "        \n",
      "        Returns a tuple containing the path to the newly created\n",
      "        data file as well as the resulting HTTPMessage object.\n",
      "\n",
      "DATA\n",
      "    __all__ = ['Request', 'OpenerDirector', 'BaseHandler', 'HTTPDefaultErr...\n",
      "\n",
      "VERSION\n",
      "    3.9\n",
      "\n",
      "FILE\n",
      "    /Users/riyaraj/opt/anaconda3/lib/python3.9/urllib/request.py\n",
      "\n",
      "\n"
     ]
    }
   ],
   "source": [
    "help(urllib.request)"
   ]
  },
  {
   "cell_type": "markdown",
   "id": "9bd92d0e",
   "metadata": {},
   "source": [
    "## Writing Packages"
   ]
  },
  {
   "cell_type": "markdown",
   "id": "85033d52",
   "metadata": {},
   "source": [
    "Packages are namespaces which contain multiple packages and modules themselves. They are simply directories, but with a twist.\n",
    "\n",
    "Each package in Python is a directory which MUST contain a special file called __init__.py. This file can be empty, and it indicates that the directory it contains is a Python package, so it can be imported the same way a module can be imported.\n",
    "\n",
    "If we create a directory called foo, which marks the package name, we can then create a module inside that package called bar. We also must not forget to add the __init__.py file inside the foo directory.\n",
    "\n",
    "To use the module bar, we can import it in two ways:\n",
    "\n"
   ]
  },
  {
   "cell_type": "raw",
   "id": "78c1d74b",
   "metadata": {},
   "source": [
    "import foo.bar"
   ]
  },
  {
   "cell_type": "raw",
   "id": "564c40ba",
   "metadata": {},
   "source": [
    "from foo import bar"
   ]
  },
  {
   "cell_type": "markdown",
   "id": "946d51e5",
   "metadata": {},
   "source": [
    "In the first method, we must use the foo prefix whenever we access the module bar. In the second method, we don't, because we import the module to our module's namespace.\n",
    "\n",
    "The __init__.py file can also decide which modules the package exports as the API, while keeping other modules internal, by overriding the __all__ variable, like so:\n",
    "\n"
   ]
  },
  {
   "cell_type": "raw",
   "id": "9bcc55fa",
   "metadata": {},
   "source": [
    "__init__.py:\n",
    "\n",
    "__all__ = [\"bar\"]"
   ]
  },
  {
   "cell_type": "markdown",
   "id": "4a51acc4",
   "metadata": {},
   "source": [
    "# 13. Date and Time"
   ]
  },
  {
   "cell_type": "markdown",
   "id": "df83bf22",
   "metadata": {},
   "source": [
    "A Python program can handle date and time in several ways. Converting between date formats is a common chore for computers. Python's time and calendar modules help track dates and times.\n",
    "\n"
   ]
  },
  {
   "cell_type": "markdown",
   "id": "6993e140",
   "metadata": {},
   "source": [
    "Time intervals are floating-point numbers in units of seconds. Particular instants in time are expressed in seconds since 00:00:00 hrs January 1, 1970(epoch).\n",
    "\n",
    "There is a popular time module available in Python which provides functions for working with times, and for converting between representations. The function time.time() returns the current system time in ticks since 00:00:00 hrs January 1, 1970(epoch).\n",
    "\n"
   ]
  },
  {
   "cell_type": "code",
   "execution_count": 31,
   "id": "307ae713",
   "metadata": {},
   "outputs": [
    {
     "name": "stdout",
     "output_type": "stream",
     "text": [
      "Number of ticks since 12:00am, January 1, 1970: 1640343763.928114\n"
     ]
    }
   ],
   "source": [
    "import time;  # This is required to include time module.\n",
    "\n",
    "ticks = time.time()\n",
    "print(\"Number of ticks since 12:00am, January 1, 1970:\", ticks)"
   ]
  },
  {
   "cell_type": "markdown",
   "id": "2c8f6fe8",
   "metadata": {},
   "source": [
    "## Getting current time\n"
   ]
  },
  {
   "cell_type": "markdown",
   "id": "a12fc46e",
   "metadata": {},
   "source": [
    "To translate a time instant from a seconds since the epoch floating-point value into a time-tuple, pass the floating-point value to a function (e.g., localtime) that returns a time-tuple with all nine items valid.\n",
    "\n"
   ]
  },
  {
   "cell_type": "code",
   "execution_count": 32,
   "id": "3c83fbe9",
   "metadata": {},
   "outputs": [
    {
     "name": "stdout",
     "output_type": "stream",
     "text": [
      "Local Current Time: time.struct_time(tm_year=2021, tm_mon=12, tm_mday=24, tm_hour=16, tm_min=37, tm_sec=20, tm_wday=4, tm_yday=358, tm_isdst=0)\n"
     ]
    }
   ],
   "source": [
    "import time;\n",
    "localtime=time.localtime(time.time())\n",
    "print(\"Local Current Time:\",localtime)"
   ]
  },
  {
   "cell_type": "code",
   "execution_count": 33,
   "id": "10168e29",
   "metadata": {},
   "outputs": [
    {
     "name": "stdout",
     "output_type": "stream",
     "text": [
      "Local Current Time: Fri Dec 24 16:38:19 2021\n"
     ]
    }
   ],
   "source": [
    "# To format it properly\n",
    "localtime=time.asctime(time.localtime(time.time()))\n",
    "print(\"Local Current Time:\", localtime)"
   ]
  },
  {
   "cell_type": "markdown",
   "id": "7c11595c",
   "metadata": {},
   "source": [
    "## Getting Calendar for a Month"
   ]
  },
  {
   "cell_type": "code",
   "execution_count": 34,
   "id": "32698461",
   "metadata": {},
   "outputs": [
    {
     "name": "stdout",
     "output_type": "stream",
     "text": [
      "The calendar is given below:\n",
      "    January 2012\n",
      "Mo Tu We Th Fr Sa Su\n",
      "                   1\n",
      " 2  3  4  5  6  7  8\n",
      " 9 10 11 12 13 14 15\n",
      "16 17 18 19 20 21 22\n",
      "23 24 25 26 27 28 29\n",
      "30 31\n",
      "\n"
     ]
    }
   ],
   "source": [
    "import calendar\n",
    "cal=calendar.month(2012,1)\n",
    "print(\"The calendar is given below:\")\n",
    "print(cal)"
   ]
  },
  {
   "cell_type": "code",
   "execution_count": 35,
   "id": "b3dab8e3",
   "metadata": {},
   "outputs": [],
   "source": [
    "# There are many more methods you can use in it and are listed."
   ]
  },
  {
   "cell_type": "code",
   "execution_count": null,
   "id": "0b7c3c35",
   "metadata": {},
   "outputs": [],
   "source": []
  }
 ],
 "metadata": {
  "kernelspec": {
   "display_name": "Python 3 (ipykernel)",
   "language": "python",
   "name": "python3"
  },
  "language_info": {
   "codemirror_mode": {
    "name": "ipython",
    "version": 3
   },
   "file_extension": ".py",
   "mimetype": "text/x-python",
   "name": "python",
   "nbconvert_exporter": "python",
   "pygments_lexer": "ipython3",
   "version": "3.9.7"
  }
 },
 "nbformat": 4,
 "nbformat_minor": 5
}
