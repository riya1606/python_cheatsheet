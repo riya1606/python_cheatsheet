{
 "cells": [
  {
   "cell_type": "markdown",
   "id": "11cbb3a1",
   "metadata": {},
   "source": [
    "# Hello World!\n"
   ]
  },
  {
   "cell_type": "markdown",
   "id": "6a668144",
   "metadata": {},
   "source": [
    "The simplest directive in Python is the \"print\" directive - it simply prints out a line (and also includes a newline, unlike in C).\n",
    "In Python 3, the print statement, it is a function, and must be invoked with parentheses."
   ]
  },
  {
   "cell_type": "code",
   "execution_count": 1,
   "id": "d092a5e0",
   "metadata": {},
   "outputs": [
    {
     "name": "stdout",
     "output_type": "stream",
     "text": [
      "Hello World\n"
     ]
    }
   ],
   "source": [
    "print(\"Hello World\")"
   ]
  },
  {
   "cell_type": "markdown",
   "id": "d562f932",
   "metadata": {},
   "source": [
    "## Indentation\n"
   ]
  },
  {
   "cell_type": "markdown",
   "id": "93f0f80f",
   "metadata": {},
   "source": [
    "Python uses indentation for blocks, instead of curly braces. Both tabs and spaces are supported, but the standard indentation requires standard Python code to use four spaces.  \n",
    "For Example:"
   ]
  },
  {
   "cell_type": "code",
   "execution_count": 2,
   "id": "7a687790",
   "metadata": {},
   "outputs": [
    {
     "name": "stdout",
     "output_type": "stream",
     "text": [
      "x is 1\n"
     ]
    }
   ],
   "source": [
    "x=1\n",
    "if x==1:\n",
    "    # notice the indentation - 4 spaces\n",
    "    print(\"x is 1\")"
   ]
  },
  {
   "cell_type": "markdown",
   "id": "8db3de05",
   "metadata": {},
   "source": [
    "\n",
    "# Variables and Types"
   ]
  },
  {
   "cell_type": "markdown",
   "id": "b736ed71",
   "metadata": {},
   "source": [
    "\n",
    "Python is completely object oriented, and not \"statically typed\". You do not need to declare variables before using them, or declare their type. Every variable in Python is an object."
   ]
  },
  {
   "cell_type": "markdown",
   "id": "cefbf7a6",
   "metadata": {},
   "source": [
    "## Numbers\n"
   ]
  },
  {
   "cell_type": "markdown",
   "id": "5d8f07cb",
   "metadata": {},
   "source": [
    "Python supports two types of numbers - integers(whole numbers) and floating point numbers(decimals)."
   ]
  },
  {
   "cell_type": "code",
   "execution_count": 4,
   "id": "d5fb2110",
   "metadata": {},
   "outputs": [
    {
     "name": "stdout",
     "output_type": "stream",
     "text": [
      "7\n"
     ]
    }
   ],
   "source": [
    "# To define an integer you use the following syntax.\n",
    "myInt=7\n",
    "print(myInt)"
   ]
  },
  {
   "cell_type": "code",
   "execution_count": 6,
   "id": "d63a7944",
   "metadata": {},
   "outputs": [
    {
     "name": "stdout",
     "output_type": "stream",
     "text": [
      "7.0\n",
      "7.0\n"
     ]
    }
   ],
   "source": [
    "# To define a floating point number you use the following syntax\n",
    "myFloat=7.0\n",
    "print(myFloat)\n",
    "myFloat=float(7)\n",
    "# We typecast an integer 7 into a float 7.0\n",
    "print(myFloat)"
   ]
  },
  {
   "cell_type": "markdown",
   "id": "e3862862",
   "metadata": {},
   "source": [
    "Division (/) always returns a float. To do floor division and get an integer result (discarding any fractional result) you can use the // operator; to calculate the remainder you can use %"
   ]
  },
  {
   "cell_type": "code",
   "execution_count": 1,
   "id": "71522b35",
   "metadata": {},
   "outputs": [
    {
     "name": "stdout",
     "output_type": "stream",
     "text": [
      "5.666666666666667 5 2\n"
     ]
    }
   ],
   "source": [
    "x=17/3\n",
    "y=17//3\n",
    "z=17%3\n",
    "print(x,y,z)"
   ]
  },
  {
   "cell_type": "markdown",
   "id": "010ac34b",
   "metadata": {},
   "source": [
    "## Strings"
   ]
  },
  {
   "cell_type": "markdown",
   "id": "ccf540f8",
   "metadata": {},
   "source": [
    "Strings are defined either with a single quote or a double quotes.   \n",
    "The difference between the two is that using double quotes makes it easy to include apostrophes (whereas these would terminate the string if using single quotes)\n",
    "\n"
   ]
  },
  {
   "cell_type": "code",
   "execution_count": 8,
   "id": "9a7d277a",
   "metadata": {},
   "outputs": [
    {
     "name": "stdout",
     "output_type": "stream",
     "text": [
      "hello\n",
      "heya\n",
      "Don't worry about apostrophes\n"
     ]
    }
   ],
   "source": [
    "myString='hello'\n",
    "print(myString)\n",
    "myString=\"heya\"\n",
    "print(myString)\n",
    "myString=\"Don't worry about apostrophes\"\n",
    "print(myString)"
   ]
  },
  {
   "cell_type": "markdown",
   "id": "0f74417f",
   "metadata": {},
   "source": [
    "Simple operators can be executed on numbers and strings:\n",
    "\n"
   ]
  },
  {
   "cell_type": "code",
   "execution_count": 10,
   "id": "ff336252",
   "metadata": {},
   "outputs": [
    {
     "name": "stdout",
     "output_type": "stream",
     "text": [
      "3\n",
      "hello world\n"
     ]
    }
   ],
   "source": [
    "# These are the operations on numbers.\n",
    "one = 1\n",
    "two = 2\n",
    "three = one+two\n",
    "print(three)\n",
    "# These are the operations on strings. The '+' here is called concatenation.\n",
    "hello = \"hello\"\n",
    "world = \"world\"\n",
    "helloworld=hello + \" \" +world\n",
    "print(helloworld)"
   ]
  },
  {
   "cell_type": "markdown",
   "id": "235cd4fa",
   "metadata": {},
   "source": [
    "In python, Assignment can be done on more than one variable simultaneously, on the same line, like this:\n"
   ]
  },
  {
   "cell_type": "code",
   "execution_count": 11,
   "id": "7cc96978",
   "metadata": {},
   "outputs": [
    {
     "name": "stdout",
     "output_type": "stream",
     "text": [
      "3 4\n"
     ]
    }
   ],
   "source": [
    "a,b=3,4\n",
    "print(a,b)"
   ]
  },
  {
   "cell_type": "markdown",
   "id": "47687170",
   "metadata": {},
   "source": [
    "# Lists"
   ]
  },
  {
   "cell_type": "markdown",
   "id": "2be22308",
   "metadata": {},
   "source": [
    "Lists are very similar to arrays. They can contain any type of variable, and they can contain as many variables as you wish. Lists can also be iterated over in a very simple manner.   \n",
    "Here is an example of how to build a list."
   ]
  },
  {
   "cell_type": "code",
   "execution_count": 12,
   "id": "0ed87339",
   "metadata": {},
   "outputs": [
    {
     "name": "stdout",
     "output_type": "stream",
     "text": [
      "1\n",
      "2\n",
      "3\n",
      "1\n",
      "2\n",
      "3\n",
      "[1, 2, 3]\n"
     ]
    }
   ],
   "source": [
    "# This is how you create an empty list.\n",
    "myList=[] \n",
    "# To add items to it we use the append() method\n",
    "myList.append(1)\n",
    "myList.append(2)\n",
    "myList.append(3)\n",
    "print(myList[0])\n",
    "print(myList[1])\n",
    "print(myList[2])\n",
    "# You can also iterate over each element in list by doing the following:\n",
    "for x in myList:\n",
    "    print(x)\n",
    "# You can print the entire list\n",
    "print(myList)\n"
   ]
  },
  {
   "cell_type": "markdown",
   "id": "85297246",
   "metadata": {},
   "source": [
    "Accessing an index which does not exist generates an exception (an error)."
   ]
  },
  {
   "cell_type": "code",
   "execution_count": 13,
   "id": "428ca0e5",
   "metadata": {},
   "outputs": [
    {
     "ename": "IndexError",
     "evalue": "list index out of range",
     "output_type": "error",
     "traceback": [
      "\u001b[0;31m---------------------------------------------------------------------------\u001b[0m",
      "\u001b[0;31mIndexError\u001b[0m                                Traceback (most recent call last)",
      "\u001b[0;32m<ipython-input-13-4c32ae031624>\u001b[0m in \u001b[0;36m<module>\u001b[0;34m\u001b[0m\n\u001b[1;32m      1\u001b[0m \u001b[0mmyList\u001b[0m\u001b[0;34m=\u001b[0m\u001b[0;34m[\u001b[0m\u001b[0;36m1\u001b[0m\u001b[0;34m,\u001b[0m\u001b[0;36m2\u001b[0m\u001b[0;34m,\u001b[0m\u001b[0;36m3\u001b[0m\u001b[0;34m,\u001b[0m\u001b[0;36m4\u001b[0m\u001b[0;34m,\u001b[0m\u001b[0;36m5\u001b[0m\u001b[0;34m]\u001b[0m\u001b[0;34m\u001b[0m\u001b[0;34m\u001b[0m\u001b[0m\n\u001b[0;32m----> 2\u001b[0;31m \u001b[0mprint\u001b[0m\u001b[0;34m(\u001b[0m\u001b[0mmyList\u001b[0m\u001b[0;34m[\u001b[0m\u001b[0;36m6\u001b[0m\u001b[0;34m]\u001b[0m\u001b[0;34m)\u001b[0m\u001b[0;34m\u001b[0m\u001b[0;34m\u001b[0m\u001b[0m\n\u001b[0m",
      "\u001b[0;31mIndexError\u001b[0m: list index out of range"
     ]
    }
   ],
   "source": [
    "myList=[1,2,3,4,5]\n",
    "print(myList[6])"
   ]
  },
  {
   "cell_type": "markdown",
   "id": "ec2761ae",
   "metadata": {},
   "source": [
    "# Basic Operators"
   ]
  },
  {
   "cell_type": "markdown",
   "id": "932de3e8",
   "metadata": {},
   "source": [
    "## Arithmetic Operators"
   ]
  },
  {
   "cell_type": "markdown",
   "id": "58ad98de",
   "metadata": {},
   "source": [
    "Just as any other programming language, the addition, subtraction , multiplication, division, modulo, exponential operator remains the same."
   ]
  },
  {
   "cell_type": "code",
   "execution_count": 15,
   "id": "c1611a3a",
   "metadata": {},
   "outputs": [
    {
     "name": "stdout",
     "output_type": "stream",
     "text": [
      "2.5\n"
     ]
    }
   ],
   "source": [
    "number = 1+2*3/4.0\n",
    "print(number)"
   ]
  },
  {
   "cell_type": "code",
   "execution_count": 17,
   "id": "7cdabf76",
   "metadata": {},
   "outputs": [
    {
     "name": "stdout",
     "output_type": "stream",
     "text": [
      "0.5\n"
     ]
    }
   ],
   "source": [
    "number=number%2\n",
    "print(number)"
   ]
  },
  {
   "cell_type": "code",
   "execution_count": 18,
   "id": "07114487",
   "metadata": {},
   "outputs": [
    {
     "name": "stdout",
     "output_type": "stream",
     "text": [
      "49\n",
      "8\n"
     ]
    }
   ],
   "source": [
    "squared=7**2\n",
    "cubed=2**3\n",
    "print(squared)\n",
    "print(cubed)"
   ]
  },
  {
   "cell_type": "markdown",
   "id": "61574036",
   "metadata": {},
   "source": [
    "## Using Operators with Strings"
   ]
  },
  {
   "cell_type": "markdown",
   "id": "d6ce760a",
   "metadata": {},
   "source": [
    "Python supports concatenating strings using the addition operator:\n",
    "\n"
   ]
  },
  {
   "cell_type": "code",
   "execution_count": 19,
   "id": "6eb34145",
   "metadata": {},
   "outputs": [
    {
     "name": "stdout",
     "output_type": "stream",
     "text": [
      "hello world\n"
     ]
    }
   ],
   "source": [
    "helloworld=\"hello\"+\" \"+\"world\"\n",
    "print(helloworld)"
   ]
  },
  {
   "cell_type": "markdown",
   "id": "f53f82e4",
   "metadata": {},
   "source": [
    "Python also supports multiplying strings to form a string with a repeating sequence:"
   ]
  },
  {
   "cell_type": "code",
   "execution_count": 20,
   "id": "07e9a8fd",
   "metadata": {},
   "outputs": [
    {
     "name": "stdout",
     "output_type": "stream",
     "text": [
      "hello hello hello hello hello hello hello hello hello hello \n"
     ]
    }
   ],
   "source": [
    "multiple_hellos=\"hello \"*10\n",
    "print(multiple_hellos)"
   ]
  },
  {
   "cell_type": "markdown",
   "id": "5e52407c",
   "metadata": {},
   "source": [
    "## Using Operators with Lists"
   ]
  },
  {
   "cell_type": "markdown",
   "id": "ca420e89",
   "metadata": {},
   "source": [
    "Lists can be joined with the addition operators:"
   ]
  },
  {
   "cell_type": "code",
   "execution_count": 22,
   "id": "e15751c5",
   "metadata": {},
   "outputs": [
    {
     "name": "stdout",
     "output_type": "stream",
     "text": [
      "[1, 3, 5, 7, 2, 4, 6, 8]\n",
      "1 2\n",
      "3 4\n",
      "5 6\n",
      "7 8\n"
     ]
    }
   ],
   "source": [
    "even_numbers=[2,4,6,8]\n",
    "odd_numbers=[1,3,5,7]\n",
    "all_numbers=odd_numbers+even_numbers\n",
    "print(all_numbers)\n",
    "# If you want to print it in a sequence\n",
    "for i in range(4):\n",
    "    print(odd_numbers[i],even_numbers[i])"
   ]
  },
  {
   "cell_type": "markdown",
   "id": "d9ad681f",
   "metadata": {},
   "source": [
    "Just as in strings, Python supports forming new lists with a repeating sequence using the multiplication operator:"
   ]
  },
  {
   "cell_type": "code",
   "execution_count": 23,
   "id": "9d12689d",
   "metadata": {},
   "outputs": [
    {
     "name": "stdout",
     "output_type": "stream",
     "text": [
      "[1, 2, 3, 1, 2, 3, 1, 2, 3]\n"
     ]
    }
   ],
   "source": [
    "print([1,2,3]*3)"
   ]
  },
  {
   "cell_type": "markdown",
   "id": "4157d0c7",
   "metadata": {},
   "source": [
    "# String Formatting"
   ]
  },
  {
   "cell_type": "markdown",
   "id": "09ada396",
   "metadata": {},
   "source": [
    "Python uses C-style string formatting to create new, formatted strings. The \"%\" operator is used to format a set of variables enclosed in a \"tuple\" (a fixed size list), together with a format string, which contains normal text together with \"argument specifiers\", special symbols like \"%s\" and \"%d\"."
   ]
  },
  {
   "cell_type": "code",
   "execution_count": 24,
   "id": "7b708be6",
   "metadata": {},
   "outputs": [
    {
     "name": "stdout",
     "output_type": "stream",
     "text": [
      "Hello, Riya!\n"
     ]
    }
   ],
   "source": [
    "name=\"Riya\"\n",
    "print(\"Hello, %s!\" %name)"
   ]
  },
  {
   "cell_type": "markdown",
   "id": "c21a0092",
   "metadata": {},
   "source": [
    "To use two or more argument specifiers, use a tuple (parentheses):\n",
    "\n"
   ]
  },
  {
   "cell_type": "code",
   "execution_count": 26,
   "id": "9830d381",
   "metadata": {},
   "outputs": [
    {
     "name": "stdout",
     "output_type": "stream",
     "text": [
      "Riya is 21 years old.\n"
     ]
    }
   ],
   "source": [
    "name=\"Riya\"\n",
    "age=21\n",
    "print(\"%s is %d years old.\" %(name,age))"
   ]
  },
  {
   "cell_type": "markdown",
   "id": "9dcc1690",
   "metadata": {},
   "source": [
    "Any object which is not a string can be formatted using the %s operator as well. The string which returns from the \"repr\" method of that object is formatted as the string.   \n",
    "For example:"
   ]
  },
  {
   "cell_type": "code",
   "execution_count": 27,
   "id": "50f722c2",
   "metadata": {},
   "outputs": [
    {
     "name": "stdout",
     "output_type": "stream",
     "text": [
      "A list: [1, 2, 3]\n"
     ]
    }
   ],
   "source": [
    "# This prints out a list: [1,2,3]\n",
    "myList=[1,2,3]\n",
    "print(\"A list: %s\" %myList)"
   ]
  },
  {
   "cell_type": "markdown",
   "id": "bf7a3875",
   "metadata": {},
   "source": [
    "Here are some basic argument specifiers:   \n",
    "%s - String (or any object with string representation, like numbers)   \n",
    "%d - Integers   \n",
    "%f - Floating Point Numbers   \n",
    "%.< number of digits >f - Floating point numbers with a fixed amount of digits to the right of the dot.   \n",
    "%x / %X - Integers in hex representation (lowercase/uppercase)   "
   ]
  },
  {
   "cell_type": "markdown",
   "id": "4a26cde8",
   "metadata": {},
   "source": [
    "# Basic String Operations"
   ]
  },
  {
   "cell_type": "markdown",
   "id": "30548d31",
   "metadata": {},
   "source": [
    "Strings are bits of text. They can be defined as anything between quotes:\n",
    "\n"
   ]
  },
  {
   "cell_type": "code",
   "execution_count": 28,
   "id": "b492bb0e",
   "metadata": {},
   "outputs": [],
   "source": [
    "astring=\"Hello World!\"\n",
    "astring2='Hello World!'"
   ]
  },
  {
   "cell_type": "code",
   "execution_count": 29,
   "id": "8211e2e0",
   "metadata": {},
   "outputs": [
    {
     "name": "stdout",
     "output_type": "stream",
     "text": [
      "12\n"
     ]
    }
   ],
   "source": [
    "# To check the length of string\n",
    "print(len(astring))"
   ]
  },
  {
   "cell_type": "code",
   "execution_count": 30,
   "id": "bb285ecc",
   "metadata": {},
   "outputs": [
    {
     "name": "stdout",
     "output_type": "stream",
     "text": [
      "4\n"
     ]
    }
   ],
   "source": [
    "# To check the index of a specific character- its first occourence.\n",
    "print(astring.index(\"o\"))"
   ]
  },
  {
   "cell_type": "code",
   "execution_count": 31,
   "id": "3e27a491",
   "metadata": {},
   "outputs": [
    {
     "name": "stdout",
     "output_type": "stream",
     "text": [
      "3\n"
     ]
    }
   ],
   "source": [
    "# To count the number of occourences of a character.\n",
    "print(astring.count(\"l\"))"
   ]
  },
  {
   "cell_type": "code",
   "execution_count": 32,
   "id": "3e6e21dc",
   "metadata": {},
   "outputs": [
    {
     "name": "stdout",
     "output_type": "stream",
     "text": [
      "lo W\n"
     ]
    }
   ],
   "source": [
    "# To slice a substring from a given string.\n",
    "print(astring[3:7])"
   ]
  },
  {
   "cell_type": "code",
   "execution_count": 33,
   "id": "f4a3fdfa",
   "metadata": {},
   "outputs": [
    {
     "name": "stdout",
     "output_type": "stream",
     "text": [
      "l \n"
     ]
    }
   ],
   "source": [
    "# To slice a substring but also step on a given string.\n",
    "print(astring[3:7:2])"
   ]
  },
  {
   "cell_type": "code",
   "execution_count": 34,
   "id": "54c209d2",
   "metadata": {},
   "outputs": [
    {
     "name": "stdout",
     "output_type": "stream",
     "text": [
      "!dlroW olleH\n"
     ]
    }
   ],
   "source": [
    "# There is no reverse function in python for string but using this you can reverse the string.\n",
    "print(astring[::-1])"
   ]
  },
  {
   "cell_type": "code",
   "execution_count": 35,
   "id": "70570a2e",
   "metadata": {},
   "outputs": [
    {
     "name": "stdout",
     "output_type": "stream",
     "text": [
      "HELLO WORLD!\n",
      "hello world!\n"
     ]
    }
   ],
   "source": [
    "# To convert the string into complete lower case or upper case we do the following.\n",
    "print(astring.upper())\n",
    "print(astring.lower())"
   ]
  },
  {
   "cell_type": "code",
   "execution_count": 36,
   "id": "d3b18156",
   "metadata": {},
   "outputs": [
    {
     "name": "stdout",
     "output_type": "stream",
     "text": [
      "True\n",
      "False\n"
     ]
    }
   ],
   "source": [
    "# In this we are checking if a string starts and ends with something secific.\n",
    "print(astring.startswith(\"Hello\"))\n",
    "print(astring.endswith(\"dsjhdfdhfd\"))"
   ]
  },
  {
   "cell_type": "code",
   "execution_count": 38,
   "id": "8fffd16f",
   "metadata": {},
   "outputs": [
    {
     "name": "stdout",
     "output_type": "stream",
     "text": [
      "['Hello', 'World!']\n"
     ]
    }
   ],
   "source": [
    "# To split the string into a bunch of strings grouped together in a list.\n",
    "ListOfWords=astring.split(\" \")\n",
    "print(ListOfWords)"
   ]
  },
  {
   "cell_type": "markdown",
   "id": "0d48e409",
   "metadata": {},
   "source": [
    "# Conditions"
   ]
  },
  {
   "cell_type": "markdown",
   "id": "9df8174e",
   "metadata": {},
   "source": [
    "Python uses boolean logic to evaluate conditions. The boolean values True and False are returned when an expression is compared or evaluated.    \n",
    "For example:   \n"
   ]
  },
  {
   "cell_type": "code",
   "execution_count": 39,
   "id": "a1ed809e",
   "metadata": {},
   "outputs": [
    {
     "name": "stdout",
     "output_type": "stream",
     "text": [
      "True\n",
      "False\n",
      "True\n",
      "False\n"
     ]
    }
   ],
   "source": [
    "x=2\n",
    "print(x==2)\n",
    "print(x==3)\n",
    "print(x<3)\n",
    "print(x>10)"
   ]
  },
  {
   "cell_type": "markdown",
   "id": "56cc2bd6",
   "metadata": {},
   "source": [
    "## Boolean Operators"
   ]
  },
  {
   "cell_type": "markdown",
   "id": "a57f3e6d",
   "metadata": {},
   "source": [
    "The \"and\" and \"or\" boolean operators allow building complex boolean expressions."
   ]
  },
  {
   "cell_type": "code",
   "execution_count": 41,
   "id": "ec75ffec",
   "metadata": {},
   "outputs": [
    {
     "name": "stdout",
     "output_type": "stream",
     "text": [
      "Your name is Riya and you are 21 years old.\n",
      "Your name is either Riya or Roshan.\n"
     ]
    }
   ],
   "source": [
    "name=\"Riya\"\n",
    "age=21\n",
    "if name==\"Riya\" and age==21:\n",
    "    print(\"Your name is Riya and you are 21 years old.\")\n",
    "if name==\"Riya\" or name==\"Roshan\":\n",
    "    print(\"Your name is either Riya or Roshan.\")"
   ]
  },
  {
   "cell_type": "markdown",
   "id": "2eaf9b2a",
   "metadata": {},
   "source": [
    "The \"in\" operator could be used to check if a specified object exists within an iterable object container, such as a list:"
   ]
  },
  {
   "cell_type": "code",
   "execution_count": 42,
   "id": "0e42592e",
   "metadata": {},
   "outputs": [
    {
     "name": "stdout",
     "output_type": "stream",
     "text": [
      "Your name is either Riya or Roshan\n"
     ]
    }
   ],
   "source": [
    "name=\"Riya\"\n",
    "if name in [\"Riya\",\"Roshan\"]:\n",
    "    print(\"Your name is either Riya or Roshan\")"
   ]
  },
  {
   "cell_type": "code",
   "execution_count": 43,
   "id": "20b1c85f",
   "metadata": {},
   "outputs": [
    {
     "name": "stdout",
     "output_type": "stream",
     "text": [
      "Enter a number to check if odd or even:12\n",
      "It is an even number.\n"
     ]
    }
   ],
   "source": [
    "# Python if-elif-else statement with indentation.\n",
    "number=int(input(\"Enter a number to check if odd or even:\"))\n",
    "if number%2==0:\n",
    "    print(\"It is an even number.\")\n",
    "else:\n",
    "    print(\"It is an odd number.\")"
   ]
  },
  {
   "cell_type": "markdown",
   "id": "6287de36",
   "metadata": {},
   "source": [
    "The is operator does not match the value of the variables, but the instance themselves."
   ]
  },
  {
   "cell_type": "code",
   "execution_count": 44,
   "id": "badb3ca2",
   "metadata": {},
   "outputs": [
    {
     "name": "stdout",
     "output_type": "stream",
     "text": [
      "True\n",
      "False\n",
      "True\n"
     ]
    }
   ],
   "source": [
    "x=[1,2,3]\n",
    "y=[1,2,3]\n",
    "print(x==y)\n",
    "print(x is y)\n",
    "print(x is x)"
   ]
  },
  {
   "cell_type": "markdown",
   "id": "50543a5c",
   "metadata": {},
   "source": [
    "The \"not\" operator inverts it."
   ]
  },
  {
   "cell_type": "code",
   "execution_count": 45,
   "id": "f947740e",
   "metadata": {},
   "outputs": [
    {
     "name": "stdout",
     "output_type": "stream",
     "text": [
      "True\n",
      "False\n"
     ]
    }
   ],
   "source": [
    "print(not False)\n",
    "print(not True)"
   ]
  },
  {
   "cell_type": "markdown",
   "id": "9369ffc0",
   "metadata": {},
   "source": [
    "# Loops"
   ]
  },
  {
   "cell_type": "markdown",
   "id": "a6dd2d71",
   "metadata": {},
   "source": [
    "There are two types of loops in python: for loop and while loop."
   ]
  },
  {
   "cell_type": "markdown",
   "id": "30e8a43e",
   "metadata": {},
   "source": [
    "## The \"for\" Loop"
   ]
  },
  {
   "cell_type": "markdown",
   "id": "9c7a51e2",
   "metadata": {},
   "source": [
    "For loops iterate over a given sequence.   \n",
    "Here is an example:"
   ]
  },
  {
   "cell_type": "code",
   "execution_count": 46,
   "id": "bd103b08",
   "metadata": {},
   "outputs": [
    {
     "name": "stdout",
     "output_type": "stream",
     "text": [
      "2\n",
      "3\n",
      "5\n",
      "7\n"
     ]
    }
   ],
   "source": [
    "primes=[2,3,5,7]\n",
    "for prime in primes:\n",
    "    print(prime)"
   ]
  },
  {
   "cell_type": "markdown",
   "id": "5c18fecb",
   "metadata": {},
   "source": [
    "For loops can iterate over a sequence of numbers using the \"range\" and \"xrange\" functions.   \n",
    "The difference between range and xrange is that the range function returns a new list with numbers of that specified range, whereas xrange returns an iterator, which is more efficient. (Python 3 uses the range function, which acts like xrange). Note that the range function is zero based."
   ]
  },
  {
   "cell_type": "code",
   "execution_count": 47,
   "id": "d63cd604",
   "metadata": {},
   "outputs": [
    {
     "name": "stdout",
     "output_type": "stream",
     "text": [
      "3\n",
      "5\n",
      "7\n"
     ]
    }
   ],
   "source": [
    "# Lets say I want to print out 3,5,7 then:\n",
    "for x in range(3,8,2):\n",
    "    print(x)"
   ]
  },
  {
   "cell_type": "markdown",
   "id": "f197ed6f",
   "metadata": {},
   "source": [
    "## The \"while\" Loop"
   ]
  },
  {
   "cell_type": "markdown",
   "id": "7b3ccb5c",
   "metadata": {},
   "source": [
    "While loops repeat as long as a certain boolean condition is met.   \n",
    "For example:"
   ]
  },
  {
   "cell_type": "code",
   "execution_count": 48,
   "id": "cacb9834",
   "metadata": {},
   "outputs": [
    {
     "name": "stdout",
     "output_type": "stream",
     "text": [
      "0\n",
      "1\n",
      "2\n",
      "3\n",
      "4\n"
     ]
    }
   ],
   "source": [
    "count=0 #initialisation\n",
    "while count<5:  #condition of the loop\n",
    "    print(count)\n",
    "    count+=1 #increment"
   ]
  },
  {
   "cell_type": "markdown",
   "id": "7b62abff",
   "metadata": {},
   "source": [
    "## The \"Break\" and \"Continue\" Statements"
   ]
  },
  {
   "cell_type": "markdown",
   "id": "9fd5c5b8",
   "metadata": {},
   "source": [
    "\"break\" is used to exit a for loop or a while loop, whereas \"continue\" is used to skip the current block, and return to the \"for\" or \"while\" statement.   \n",
    "A few examples:"
   ]
  },
  {
   "cell_type": "code",
   "execution_count": 50,
   "id": "f9b58f3c",
   "metadata": {},
   "outputs": [
    {
     "name": "stdout",
     "output_type": "stream",
     "text": [
      "0\n",
      "1\n",
      "2\n",
      "3\n",
      "4\n",
      "1\n",
      "3\n",
      "5\n",
      "7\n",
      "9\n"
     ]
    }
   ],
   "source": [
    "count=0\n",
    "while True:\n",
    "    print(count)\n",
    "    count+=1\n",
    "    if count>=5:\n",
    "        break\n",
    "        \n",
    "# This is how we use break in a loop\n",
    "for x in range(10):\n",
    "    if x%2==0:\n",
    "        continue\n",
    "    print(x)\n",
    "\n",
    "# This is how we use continue in a loop"
   ]
  },
  {
   "cell_type": "markdown",
   "id": "65028717",
   "metadata": {},
   "source": [
    "## Can we use \"else\" clause for loops?"
   ]
  },
  {
   "cell_type": "markdown",
   "id": "f9ecd148",
   "metadata": {},
   "source": [
    "Unlike languages like C,CPP.. we can use else for loops. When the loop condition of \"for\" or \"while\" statement fails then code part in \"else\" is executed. If a break statement is executed inside the for loop then the \"else\" part is skipped. Note that the \"else\" part is executed even if there is a continue statement."
   ]
  },
  {
   "cell_type": "code",
   "execution_count": 3,
   "id": "a06063c5",
   "metadata": {},
   "outputs": [
    {
     "name": "stdout",
     "output_type": "stream",
     "text": [
      "0\n",
      "1\n",
      "2\n",
      "3\n",
      "4\n",
      "Count value reached 5\n"
     ]
    }
   ],
   "source": [
    "count=0\n",
    "while count<5:\n",
    "    print(count)\n",
    "    count+=1\n",
    "else:\n",
    "    print(\"Count value reached %d\"%(count))\n",
    "    "
   ]
  },
  {
   "cell_type": "markdown",
   "id": "a9104de9",
   "metadata": {},
   "source": [
    "# Functions"
   ]
  },
  {
   "cell_type": "markdown",
   "id": "5a32a1a4",
   "metadata": {},
   "source": [
    "Functions are a convenient way to divide your code into useful blocks, allowing us to order our code, make it more readable, reuse it and save some time. Also functions are a key way to define interfaces so programmers can share their code."
   ]
  },
  {
   "cell_type": "code",
   "execution_count": 4,
   "id": "fd202469",
   "metadata": {},
   "outputs": [],
   "source": [
    "# This is defining a function\n",
    "def myFunction():\n",
    "    print(\"Hello from my function\")"
   ]
  },
  {
   "cell_type": "code",
   "execution_count": 6,
   "id": "78fb6d1d",
   "metadata": {},
   "outputs": [
    {
     "name": "stdout",
     "output_type": "stream",
     "text": [
      "Hello from my function\n"
     ]
    }
   ],
   "source": [
    "# This is calling a function\n",
    "myFunction()"
   ]
  },
  {
   "cell_type": "code",
   "execution_count": 7,
   "id": "766bba22",
   "metadata": {},
   "outputs": [],
   "source": [
    "def my_function_with_args(username,greeting):\n",
    "    print(\"Hello %s, From my function I wish you %s\"%(username,greeting))"
   ]
  },
  {
   "cell_type": "code",
   "execution_count": 8,
   "id": "fa017084",
   "metadata": {},
   "outputs": [
    {
     "name": "stdout",
     "output_type": "stream",
     "text": [
      "Hello Riya, From my function I wish you All the Best\n"
     ]
    }
   ],
   "source": [
    "my_function_with_args(\"Riya\",\"All the Best\")"
   ]
  },
  {
   "cell_type": "code",
   "execution_count": 10,
   "id": "bff14ad1",
   "metadata": {},
   "outputs": [],
   "source": [
    "# Functions can also return a value\n",
    "def sumTwoNumbers(num1,num2):\n",
    "    sum1=num1+num2\n",
    "    return sum1"
   ]
  },
  {
   "cell_type": "code",
   "execution_count": 11,
   "id": "bb67106d",
   "metadata": {},
   "outputs": [
    {
     "data": {
      "text/plain": [
       "12"
      ]
     },
     "execution_count": 11,
     "metadata": {},
     "output_type": "execute_result"
    }
   ],
   "source": [
    "sumTwoNumbers(5,7)"
   ]
  },
  {
   "cell_type": "markdown",
   "id": "899c6a91",
   "metadata": {},
   "source": [
    "# Classes and Objects"
   ]
  },
  {
   "cell_type": "markdown",
   "id": "b4316dd5",
   "metadata": {},
   "source": [
    "Objects are an encapsulation of variables and functions into a single entity. Objects get their variables and functions from classes. Classes are essentially a template to create your objects"
   ]
  },
  {
   "cell_type": "markdown",
   "id": "62373987",
   "metadata": {},
   "source": [
    "Classes provide a means of bundling data and functionality together. Creating a new class creates a new type of object, allowing new instances of that type to be made. Each class instance can have attributes attached to it for maintaining its state. Class instances can also have methods (defined by its class) for modifying its state."
   ]
  },
  {
   "cell_type": "markdown",
   "id": "2b00484f",
   "metadata": {},
   "source": [
    "Python classes provide all the standard features of Object Oriented Programming: the class inheritance mechanism allows multiple base classes, a derived class can override any methods of its base class or classes, and a method can call the method of a base class with the same name. Objects can contain arbitrary amounts and kinds of data. As is true for modules, classes partake of the dynamic nature of Python: they are created at runtime, and can be modified further after creation."
   ]
  },
  {
   "cell_type": "code",
   "execution_count": 17,
   "id": "34a8824f",
   "metadata": {},
   "outputs": [
    {
     "name": "stdout",
     "output_type": "stream",
     "text": [
      "bleh\n",
      "This is a message inside the class.\n",
      "True\n"
     ]
    }
   ],
   "source": [
    "class MyClass:\n",
    "    variable=\"bleh\"\n",
    "    \n",
    "    def function(self):\n",
    "        print(\"This is a message inside the class.\")\n",
    "        return True\n",
    "# Now the variable \"myobjectx\" holds an object of the class \"MyClass\" that contains the variable and the function defined within the class called \"MyClass\".\n",
    "\n",
    "MyObjectX=MyClass()\n",
    "print(MyObjectX.variable)\n",
    "print(MyObjectX.function())"
   ]
  },
  {
   "cell_type": "markdown",
   "id": "76377d59",
   "metadata": {},
   "source": [
    "## init()"
   ]
  },
  {
   "cell_type": "markdown",
   "id": "1b89dfb9",
   "metadata": {},
   "source": [
    "The _ _init_ _ () function, is a special function that is called when the class is being initiated. It's used for asigning values in a class."
   ]
  },
  {
   "cell_type": "code",
   "execution_count": 18,
   "id": "282d2566",
   "metadata": {},
   "outputs": [],
   "source": [
    "class NumberHolder:\n",
    "    def __init__(self,number):\n",
    "        self.number=number"
   ]
  },
  {
   "cell_type": "markdown",
   "id": "be14f078",
   "metadata": {},
   "source": [
    "# Dictionaries"
   ]
  },
  {
   "cell_type": "markdown",
   "id": "71228e61",
   "metadata": {},
   "source": [
    "A dictionary is a data type similar to arrays, but works with keys and values instead of indexes. Each value stored in a dictionary can be accessed using a key, which is any type of object (a string, a number, a list, etc.) instead of using its index to address it."
   ]
  },
  {
   "cell_type": "code",
   "execution_count": 19,
   "id": "1d067315",
   "metadata": {},
   "outputs": [
    {
     "name": "stdout",
     "output_type": "stream",
     "text": [
      "{'User1': 290238475, 'User2': 237845694, 'User3': 839247583}\n"
     ]
    }
   ],
   "source": [
    "phonebook={}\n",
    "phonebook[\"User1\"]=290238475\n",
    "phonebook[\"User2\"]=237845694\n",
    "phonebook[\"User3\"]=839247583\n",
    "print(phonebook)"
   ]
  },
  {
   "cell_type": "code",
   "execution_count": 20,
   "id": "cf5b2cbd",
   "metadata": {},
   "outputs": [
    {
     "name": "stdout",
     "output_type": "stream",
     "text": [
      "{'User1': 32089475, 'User2': 27837746, 'User3': 84043857}\n"
     ]
    }
   ],
   "source": [
    "phonebook={\n",
    "    \"User1\":32089475,\n",
    "    \"User2\":27837746,\n",
    "    \"User3\":84043857\n",
    "}\n",
    "\n",
    "print(phonebook)"
   ]
  },
  {
   "cell_type": "markdown",
   "id": "bff238ec",
   "metadata": {},
   "source": [
    "## Iterating over dictionaries"
   ]
  },
  {
   "cell_type": "code",
   "execution_count": null,
   "id": "9f8f1df0",
   "metadata": {},
   "outputs": [],
   "source": []
  }
 ],
 "metadata": {
  "kernelspec": {
   "display_name": "Python 3",
   "language": "python",
   "name": "python3"
  },
  "language_info": {
   "codemirror_mode": {
    "name": "ipython",
    "version": 3
   },
   "file_extension": ".py",
   "mimetype": "text/x-python",
   "name": "python",
   "nbconvert_exporter": "python",
   "pygments_lexer": "ipython3",
   "version": "3.8.8"
  }
 },
 "nbformat": 4,
 "nbformat_minor": 5
}
